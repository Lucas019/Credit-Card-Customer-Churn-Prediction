{
  "nbformat": 4,
  "nbformat_minor": 0,
  "metadata": {
    "colab": {
      "name": "Credit Card Customer Churn Prediction.ipynb",
      "provenance": [],
      "toc_visible": true,
      "authorship_tag": "ABX9TyNlySYVjc3a3OUp4L3c/2pg",
      "include_colab_link": true
    },
    "kernelspec": {
      "name": "python3",
      "display_name": "Python 3"
    },
    "language_info": {
      "name": "python"
    }
  },
  "cells": [
    {
      "cell_type": "markdown",
      "metadata": {
        "id": "view-in-github",
        "colab_type": "text"
      },
      "source": [
        "<a href=\"https://colab.research.google.com/github/Lucas019/Credit-Card-Customer-Churn-Prediction/blob/main/Credit_Card_Customer_Churn_Prediction.ipynb\" target=\"_parent\"><img src=\"https://colab.research.google.com/assets/colab-badge.svg\" alt=\"Open In Colab\"/></a>"
      ]
    },
    {
      "cell_type": "markdown",
      "source": [
        "https://www.kaggle.com/datasets/sakshigoyal7/credit-card-customers\n",
        "\n",
        "A manager at the bank is disturbed with more and more customers leaving their credit card services. They would really appreciate if one could predict for them who is gonna get churned so they can proactively go to the customer to provide them better services and turn customers' decisions in the opposite direction"
      ],
      "metadata": {
        "id": "oMjO_ie-Hj71"
      }
    },
    {
      "cell_type": "markdown",
      "source": [
        "# **Load Dataset**"
      ],
      "metadata": {
        "id": "nM0d7orjRA-u"
      }
    },
    {
      "cell_type": "code",
      "execution_count": 1,
      "metadata": {
        "id": "HnVVXdKc6-zd"
      },
      "outputs": [],
      "source": [
        "import pandas as pd\n",
        "import numpy as np\n",
        "import matplotlib.pyplot as plt\n",
        "import seaborn as sns\n",
        "pd.options.display.max_columns=50"
      ]
    },
    {
      "cell_type": "code",
      "source": [
        "data = pd.read_csv(\"/content/BankChurners.csv\",index_col = 'CLIENTNUM')\n",
        "data.head()"
      ],
      "metadata": {
        "colab": {
          "base_uri": "https://localhost:8080/",
          "height": 388
        },
        "id": "WTH6M0KV7LoE",
        "outputId": "26052ce2-721d-47d6-d10b-57fb9e79f00d"
      },
      "execution_count": 2,
      "outputs": [
        {
          "output_type": "execute_result",
          "data": {
            "text/plain": [
              "              Attrition_Flag  Customer_Age Gender  Dependent_count  \\\n",
              "CLIENTNUM                                                            \n",
              "768805383  Existing Customer            45      M                3   \n",
              "818770008  Existing Customer            49      F                5   \n",
              "713982108  Existing Customer            51      M                3   \n",
              "769911858  Existing Customer            40      F                4   \n",
              "709106358  Existing Customer            40      M                3   \n",
              "\n",
              "          Education_Level Marital_Status Income_Category Card_Category  \\\n",
              "CLIENTNUM                                                                \n",
              "768805383     High School        Married     $60K - $80K          Blue   \n",
              "818770008        Graduate         Single  Less than $40K          Blue   \n",
              "713982108        Graduate        Married    $80K - $120K          Blue   \n",
              "769911858     High School        Unknown  Less than $40K          Blue   \n",
              "709106358      Uneducated        Married     $60K - $80K          Blue   \n",
              "\n",
              "           Months_on_book  Total_Relationship_Count  Months_Inactive_12_mon  \\\n",
              "CLIENTNUM                                                                     \n",
              "768805383              39                         5                       1   \n",
              "818770008              44                         6                       1   \n",
              "713982108              36                         4                       1   \n",
              "769911858              34                         3                       4   \n",
              "709106358              21                         5                       1   \n",
              "\n",
              "           Contacts_Count_12_mon  Credit_Limit  Total_Revolving_Bal  \\\n",
              "CLIENTNUM                                                             \n",
              "768805383                      3       12691.0                  777   \n",
              "818770008                      2        8256.0                  864   \n",
              "713982108                      0        3418.0                    0   \n",
              "769911858                      1        3313.0                 2517   \n",
              "709106358                      0        4716.0                    0   \n",
              "\n",
              "           Avg_Open_To_Buy  Total_Amt_Chng_Q4_Q1  Total_Trans_Amt  \\\n",
              "CLIENTNUM                                                           \n",
              "768805383          11914.0                 1.335             1144   \n",
              "818770008           7392.0                 1.541             1291   \n",
              "713982108           3418.0                 2.594             1887   \n",
              "769911858            796.0                 1.405             1171   \n",
              "709106358           4716.0                 2.175              816   \n",
              "\n",
              "           Total_Trans_Ct  Total_Ct_Chng_Q4_Q1  Avg_Utilization_Ratio  \\\n",
              "CLIENTNUM                                                               \n",
              "768805383              42                1.625                  0.061   \n",
              "818770008              33                3.714                  0.105   \n",
              "713982108              20                2.333                  0.000   \n",
              "769911858              20                2.333                  0.760   \n",
              "709106358              28                2.500                  0.000   \n",
              "\n",
              "           Naive_Bayes_Classifier_Attrition_Flag_Card_Category_Contacts_Count_12_mon_Dependent_count_Education_Level_Months_Inactive_12_mon_1  \\\n",
              "CLIENTNUM                                                                                                                                       \n",
              "768805383                                           0.000093                                                                                    \n",
              "818770008                                           0.000057                                                                                    \n",
              "713982108                                           0.000021                                                                                    \n",
              "769911858                                           0.000134                                                                                    \n",
              "709106358                                           0.000022                                                                                    \n",
              "\n",
              "           Naive_Bayes_Classifier_Attrition_Flag_Card_Category_Contacts_Count_12_mon_Dependent_count_Education_Level_Months_Inactive_12_mon_2  \n",
              "CLIENTNUM                                                                                                                                      \n",
              "768805383                                            0.99991                                                                                   \n",
              "818770008                                            0.99994                                                                                   \n",
              "713982108                                            0.99998                                                                                   \n",
              "769911858                                            0.99987                                                                                   \n",
              "709106358                                            0.99998                                                                                   "
            ],
            "text/html": [
              "\n",
              "  <div id=\"df-c4f38728-18fb-42c7-bdd9-69c89f283474\">\n",
              "    <div class=\"colab-df-container\">\n",
              "      <div>\n",
              "<style scoped>\n",
              "    .dataframe tbody tr th:only-of-type {\n",
              "        vertical-align: middle;\n",
              "    }\n",
              "\n",
              "    .dataframe tbody tr th {\n",
              "        vertical-align: top;\n",
              "    }\n",
              "\n",
              "    .dataframe thead th {\n",
              "        text-align: right;\n",
              "    }\n",
              "</style>\n",
              "<table border=\"1\" class=\"dataframe\">\n",
              "  <thead>\n",
              "    <tr style=\"text-align: right;\">\n",
              "      <th></th>\n",
              "      <th>Attrition_Flag</th>\n",
              "      <th>Customer_Age</th>\n",
              "      <th>Gender</th>\n",
              "      <th>Dependent_count</th>\n",
              "      <th>Education_Level</th>\n",
              "      <th>Marital_Status</th>\n",
              "      <th>Income_Category</th>\n",
              "      <th>Card_Category</th>\n",
              "      <th>Months_on_book</th>\n",
              "      <th>Total_Relationship_Count</th>\n",
              "      <th>Months_Inactive_12_mon</th>\n",
              "      <th>Contacts_Count_12_mon</th>\n",
              "      <th>Credit_Limit</th>\n",
              "      <th>Total_Revolving_Bal</th>\n",
              "      <th>Avg_Open_To_Buy</th>\n",
              "      <th>Total_Amt_Chng_Q4_Q1</th>\n",
              "      <th>Total_Trans_Amt</th>\n",
              "      <th>Total_Trans_Ct</th>\n",
              "      <th>Total_Ct_Chng_Q4_Q1</th>\n",
              "      <th>Avg_Utilization_Ratio</th>\n",
              "      <th>Naive_Bayes_Classifier_Attrition_Flag_Card_Category_Contacts_Count_12_mon_Dependent_count_Education_Level_Months_Inactive_12_mon_1</th>\n",
              "      <th>Naive_Bayes_Classifier_Attrition_Flag_Card_Category_Contacts_Count_12_mon_Dependent_count_Education_Level_Months_Inactive_12_mon_2</th>\n",
              "    </tr>\n",
              "    <tr>\n",
              "      <th>CLIENTNUM</th>\n",
              "      <th></th>\n",
              "      <th></th>\n",
              "      <th></th>\n",
              "      <th></th>\n",
              "      <th></th>\n",
              "      <th></th>\n",
              "      <th></th>\n",
              "      <th></th>\n",
              "      <th></th>\n",
              "      <th></th>\n",
              "      <th></th>\n",
              "      <th></th>\n",
              "      <th></th>\n",
              "      <th></th>\n",
              "      <th></th>\n",
              "      <th></th>\n",
              "      <th></th>\n",
              "      <th></th>\n",
              "      <th></th>\n",
              "      <th></th>\n",
              "      <th></th>\n",
              "      <th></th>\n",
              "    </tr>\n",
              "  </thead>\n",
              "  <tbody>\n",
              "    <tr>\n",
              "      <th>768805383</th>\n",
              "      <td>Existing Customer</td>\n",
              "      <td>45</td>\n",
              "      <td>M</td>\n",
              "      <td>3</td>\n",
              "      <td>High School</td>\n",
              "      <td>Married</td>\n",
              "      <td>$60K - $80K</td>\n",
              "      <td>Blue</td>\n",
              "      <td>39</td>\n",
              "      <td>5</td>\n",
              "      <td>1</td>\n",
              "      <td>3</td>\n",
              "      <td>12691.0</td>\n",
              "      <td>777</td>\n",
              "      <td>11914.0</td>\n",
              "      <td>1.335</td>\n",
              "      <td>1144</td>\n",
              "      <td>42</td>\n",
              "      <td>1.625</td>\n",
              "      <td>0.061</td>\n",
              "      <td>0.000093</td>\n",
              "      <td>0.99991</td>\n",
              "    </tr>\n",
              "    <tr>\n",
              "      <th>818770008</th>\n",
              "      <td>Existing Customer</td>\n",
              "      <td>49</td>\n",
              "      <td>F</td>\n",
              "      <td>5</td>\n",
              "      <td>Graduate</td>\n",
              "      <td>Single</td>\n",
              "      <td>Less than $40K</td>\n",
              "      <td>Blue</td>\n",
              "      <td>44</td>\n",
              "      <td>6</td>\n",
              "      <td>1</td>\n",
              "      <td>2</td>\n",
              "      <td>8256.0</td>\n",
              "      <td>864</td>\n",
              "      <td>7392.0</td>\n",
              "      <td>1.541</td>\n",
              "      <td>1291</td>\n",
              "      <td>33</td>\n",
              "      <td>3.714</td>\n",
              "      <td>0.105</td>\n",
              "      <td>0.000057</td>\n",
              "      <td>0.99994</td>\n",
              "    </tr>\n",
              "    <tr>\n",
              "      <th>713982108</th>\n",
              "      <td>Existing Customer</td>\n",
              "      <td>51</td>\n",
              "      <td>M</td>\n",
              "      <td>3</td>\n",
              "      <td>Graduate</td>\n",
              "      <td>Married</td>\n",
              "      <td>$80K - $120K</td>\n",
              "      <td>Blue</td>\n",
              "      <td>36</td>\n",
              "      <td>4</td>\n",
              "      <td>1</td>\n",
              "      <td>0</td>\n",
              "      <td>3418.0</td>\n",
              "      <td>0</td>\n",
              "      <td>3418.0</td>\n",
              "      <td>2.594</td>\n",
              "      <td>1887</td>\n",
              "      <td>20</td>\n",
              "      <td>2.333</td>\n",
              "      <td>0.000</td>\n",
              "      <td>0.000021</td>\n",
              "      <td>0.99998</td>\n",
              "    </tr>\n",
              "    <tr>\n",
              "      <th>769911858</th>\n",
              "      <td>Existing Customer</td>\n",
              "      <td>40</td>\n",
              "      <td>F</td>\n",
              "      <td>4</td>\n",
              "      <td>High School</td>\n",
              "      <td>Unknown</td>\n",
              "      <td>Less than $40K</td>\n",
              "      <td>Blue</td>\n",
              "      <td>34</td>\n",
              "      <td>3</td>\n",
              "      <td>4</td>\n",
              "      <td>1</td>\n",
              "      <td>3313.0</td>\n",
              "      <td>2517</td>\n",
              "      <td>796.0</td>\n",
              "      <td>1.405</td>\n",
              "      <td>1171</td>\n",
              "      <td>20</td>\n",
              "      <td>2.333</td>\n",
              "      <td>0.760</td>\n",
              "      <td>0.000134</td>\n",
              "      <td>0.99987</td>\n",
              "    </tr>\n",
              "    <tr>\n",
              "      <th>709106358</th>\n",
              "      <td>Existing Customer</td>\n",
              "      <td>40</td>\n",
              "      <td>M</td>\n",
              "      <td>3</td>\n",
              "      <td>Uneducated</td>\n",
              "      <td>Married</td>\n",
              "      <td>$60K - $80K</td>\n",
              "      <td>Blue</td>\n",
              "      <td>21</td>\n",
              "      <td>5</td>\n",
              "      <td>1</td>\n",
              "      <td>0</td>\n",
              "      <td>4716.0</td>\n",
              "      <td>0</td>\n",
              "      <td>4716.0</td>\n",
              "      <td>2.175</td>\n",
              "      <td>816</td>\n",
              "      <td>28</td>\n",
              "      <td>2.500</td>\n",
              "      <td>0.000</td>\n",
              "      <td>0.000022</td>\n",
              "      <td>0.99998</td>\n",
              "    </tr>\n",
              "  </tbody>\n",
              "</table>\n",
              "</div>\n",
              "      <button class=\"colab-df-convert\" onclick=\"convertToInteractive('df-c4f38728-18fb-42c7-bdd9-69c89f283474')\"\n",
              "              title=\"Convert this dataframe to an interactive table.\"\n",
              "              style=\"display:none;\">\n",
              "        \n",
              "  <svg xmlns=\"http://www.w3.org/2000/svg\" height=\"24px\"viewBox=\"0 0 24 24\"\n",
              "       width=\"24px\">\n",
              "    <path d=\"M0 0h24v24H0V0z\" fill=\"none\"/>\n",
              "    <path d=\"M18.56 5.44l.94 2.06.94-2.06 2.06-.94-2.06-.94-.94-2.06-.94 2.06-2.06.94zm-11 1L8.5 8.5l.94-2.06 2.06-.94-2.06-.94L8.5 2.5l-.94 2.06-2.06.94zm10 10l.94 2.06.94-2.06 2.06-.94-2.06-.94-.94-2.06-.94 2.06-2.06.94z\"/><path d=\"M17.41 7.96l-1.37-1.37c-.4-.4-.92-.59-1.43-.59-.52 0-1.04.2-1.43.59L10.3 9.45l-7.72 7.72c-.78.78-.78 2.05 0 2.83L4 21.41c.39.39.9.59 1.41.59.51 0 1.02-.2 1.41-.59l7.78-7.78 2.81-2.81c.8-.78.8-2.07 0-2.86zM5.41 20L4 18.59l7.72-7.72 1.47 1.35L5.41 20z\"/>\n",
              "  </svg>\n",
              "      </button>\n",
              "      \n",
              "  <style>\n",
              "    .colab-df-container {\n",
              "      display:flex;\n",
              "      flex-wrap:wrap;\n",
              "      gap: 12px;\n",
              "    }\n",
              "\n",
              "    .colab-df-convert {\n",
              "      background-color: #E8F0FE;\n",
              "      border: none;\n",
              "      border-radius: 50%;\n",
              "      cursor: pointer;\n",
              "      display: none;\n",
              "      fill: #1967D2;\n",
              "      height: 32px;\n",
              "      padding: 0 0 0 0;\n",
              "      width: 32px;\n",
              "    }\n",
              "\n",
              "    .colab-df-convert:hover {\n",
              "      background-color: #E2EBFA;\n",
              "      box-shadow: 0px 1px 2px rgba(60, 64, 67, 0.3), 0px 1px 3px 1px rgba(60, 64, 67, 0.15);\n",
              "      fill: #174EA6;\n",
              "    }\n",
              "\n",
              "    [theme=dark] .colab-df-convert {\n",
              "      background-color: #3B4455;\n",
              "      fill: #D2E3FC;\n",
              "    }\n",
              "\n",
              "    [theme=dark] .colab-df-convert:hover {\n",
              "      background-color: #434B5C;\n",
              "      box-shadow: 0px 1px 3px 1px rgba(0, 0, 0, 0.15);\n",
              "      filter: drop-shadow(0px 1px 2px rgba(0, 0, 0, 0.3));\n",
              "      fill: #FFFFFF;\n",
              "    }\n",
              "  </style>\n",
              "\n",
              "      <script>\n",
              "        const buttonEl =\n",
              "          document.querySelector('#df-c4f38728-18fb-42c7-bdd9-69c89f283474 button.colab-df-convert');\n",
              "        buttonEl.style.display =\n",
              "          google.colab.kernel.accessAllowed ? 'block' : 'none';\n",
              "\n",
              "        async function convertToInteractive(key) {\n",
              "          const element = document.querySelector('#df-c4f38728-18fb-42c7-bdd9-69c89f283474');\n",
              "          const dataTable =\n",
              "            await google.colab.kernel.invokeFunction('convertToInteractive',\n",
              "                                                     [key], {});\n",
              "          if (!dataTable) return;\n",
              "\n",
              "          const docLinkHtml = 'Like what you see? Visit the ' +\n",
              "            '<a target=\"_blank\" href=https://colab.research.google.com/notebooks/data_table.ipynb>data table notebook</a>'\n",
              "            + ' to learn more about interactive tables.';\n",
              "          element.innerHTML = '';\n",
              "          dataTable['output_type'] = 'display_data';\n",
              "          await google.colab.output.renderOutput(dataTable, element);\n",
              "          const docLink = document.createElement('div');\n",
              "          docLink.innerHTML = docLinkHtml;\n",
              "          element.appendChild(docLink);\n",
              "        }\n",
              "      </script>\n",
              "    </div>\n",
              "  </div>\n",
              "  "
            ]
          },
          "metadata": {},
          "execution_count": 2
        }
      ]
    },
    {
      "cell_type": "markdown",
      "source": [
        "* **Attrition_Flag**: Whether the account is closed\n",
        "---\n",
        "**<u>Demographic Data</u>**\n",
        "* **Customer_Age**: Customer's Age in Years\n",
        "* **Gender**: M=Male, F=Female\n",
        "* **Dependent_count**: Number of dependents\n",
        "* **Education_Level**:  Educational Qualification of the account holder\n",
        "* **Marital_Status**:  Married, Single, Divorced, Unknown\n",
        "* **Income_Category**:  Annual Income Category of the account holder\n",
        "---\n",
        "\n",
        "* **Card_Category**: Product Variable-Type of Card (Blue, Silver, Gold, Platinum)\n",
        "---\n",
        "* **Months_on_book**: Period of relationship with bank\n",
        "* **Total_Relationship_Count**: Total no. of products held by the customer\n",
        "* **Credit_Limit**: Credit Limit on the Credit Card\n",
        "* **Total_Revolving_Bal**: Total Revolving Balance on the Credit Card\n",
        "* **Total_Trans_Amt**: Total Transaction Amount (Last 12 months)\n",
        "* **Avg_Utilization_Ratio**: Average Card Utilization Ratio\n",
        "---\n",
        "* **Months_Inactive_12_mon**: No. of months inactive in the last 12 months\n",
        "* **Contacts_Count_12_mon**: No. of Contacts in the last 12 months\n",
        "\n",
        "* **Avg_Open_To_Buy**: Open to Buy Credit Line (Average of last 12 months)\n",
        "\n",
        "* **Total_Amt_Chng_Q4_Q1**: Change in Transaction Amount (Q4 over Q1)\n",
        "* **Total_Ct_Chng_Q4_Q1**: Change in Transaction Count (Q4 over Q1)\n",
        "\n",
        "\n",
        "\n"
      ],
      "metadata": {
        "id": "lWQ7B3Ml9uiF"
      }
    },
    {
      "cell_type": "code",
      "source": [
        "data['Churned'] = data['Attrition_Flag'].apply(lambda x: int(x=='Attrited Customer'))"
      ],
      "metadata": {
        "id": "JH0Q6swW7dfQ"
      },
      "execution_count": 3,
      "outputs": []
    },
    {
      "cell_type": "markdown",
      "source": [
        "# **Exploratory Data Analysis**"
      ],
      "metadata": {
        "id": "7ptMWQhVRFMP"
      }
    },
    {
      "cell_type": "markdown",
      "source": [
        "## Demographic features"
      ],
      "metadata": {
        "id": "JfBUY5qajmGe"
      }
    },
    {
      "cell_type": "code",
      "source": [
        "data.groupby('Gender')['Churned'].mean().sort_values()\n",
        "# Female are easier to churn, \n",
        "# but we should be cautious about including this feature since it may cause gender bias in the model."
      ],
      "metadata": {
        "colab": {
          "base_uri": "https://localhost:8080/"
        },
        "id": "qW6QHP9PDDl1",
        "outputId": "1bc30703-dbe6-4d9d-8b60-331c4529ba4c"
      },
      "execution_count": 4,
      "outputs": [
        {
          "output_type": "execute_result",
          "data": {
            "text/plain": [
              "Gender\n",
              "M    0.146152\n",
              "F    0.173572\n",
              "Name: Churned, dtype: float64"
            ]
          },
          "metadata": {},
          "execution_count": 4
        }
      ]
    },
    {
      "cell_type": "code",
      "source": [
        "data.groupby('Education_Level')['Churned'].mean().sort_values()\n",
        "# People with higher education like Doctor and Post-Graduate are easier to churn"
      ],
      "metadata": {
        "colab": {
          "base_uri": "https://localhost:8080/"
        },
        "id": "oanALylSFNQg",
        "outputId": "6e849fb8-f4a4-4885-dfcf-9d023ab0efc8"
      },
      "execution_count": 5,
      "outputs": [
        {
          "output_type": "execute_result",
          "data": {
            "text/plain": [
              "Education_Level\n",
              "High School      0.152012\n",
              "College          0.152024\n",
              "Graduate         0.155691\n",
              "Uneducated       0.159381\n",
              "Unknown          0.168532\n",
              "Post-Graduate    0.178295\n",
              "Doctorate        0.210643\n",
              "Name: Churned, dtype: float64"
            ]
          },
          "metadata": {},
          "execution_count": 5
        }
      ]
    },
    {
      "cell_type": "code",
      "source": [
        "data.groupby(['Marital_Status'])['Churned'].mean().sort_values()\n",
        "# Married < Divorced < Single < Unknown"
      ],
      "metadata": {
        "colab": {
          "base_uri": "https://localhost:8080/"
        },
        "id": "aM4f_C_dGfv-",
        "outputId": "e0de6dea-0c8d-478b-fa7c-7d2e3188a997"
      },
      "execution_count": 6,
      "outputs": [
        {
          "output_type": "execute_result",
          "data": {
            "text/plain": [
              "Marital_Status\n",
              "Married     0.151269\n",
              "Divorced    0.161765\n",
              "Single      0.169414\n",
              "Unknown     0.172230\n",
              "Name: Churned, dtype: float64"
            ]
          },
          "metadata": {},
          "execution_count": 6
        }
      ]
    },
    {
      "cell_type": "code",
      "source": [
        "data.groupby(['Income_Category'])['Churned'].mean().sort_values()\n",
        "# Top and bottom income categories are easier to churn"
      ],
      "metadata": {
        "colab": {
          "base_uri": "https://localhost:8080/"
        },
        "id": "wdAE1jdgHLit",
        "outputId": "e95b8e2f-7066-4d89-92e0-97f87791edb9"
      },
      "execution_count": 7,
      "outputs": [
        {
          "output_type": "execute_result",
          "data": {
            "text/plain": [
              "Income_Category\n",
              "$60K - $80K       0.134807\n",
              "$40K - $60K       0.151397\n",
              "$80K - $120K      0.157655\n",
              "Unknown           0.168165\n",
              "Less than $40K    0.171862\n",
              "$120K +           0.173315\n",
              "Name: Churned, dtype: float64"
            ]
          },
          "metadata": {},
          "execution_count": 7
        }
      ]
    },
    {
      "cell_type": "code",
      "source": [
        "data.groupby(['Churned']).boxplot(column=['Customer_Age'], figsize=(10,5))\n",
        "plt.show()\n",
        "# Age does not play any difference in customer churn"
      ],
      "metadata": {
        "colab": {
          "base_uri": "https://localhost:8080/",
          "height": 335
        },
        "id": "5zGw6z4ZDJ9K",
        "outputId": "98dc541e-f92d-4baf-d8fa-5dd66e8032dd"
      },
      "execution_count": 8,
      "outputs": [
        {
          "output_type": "display_data",
          "data": {
            "text/plain": [
              "<Figure size 720x360 with 2 Axes>"
            ],
            "image/png": "[encoded data removed]"
          },
          "metadata": {
            "needs_background": "light"
          }
        }
      ]
    },
    {
      "cell_type": "markdown",
      "source": [
        "## Product type"
      ],
      "metadata": {
        "id": "kcs5UJf6jtP1"
      }
    },
    {
      "cell_type": "code",
      "source": [
        "data.groupby('Card_Category')['Churned'].mean().sort_values()\n",
        "# People with high-class card like Gold and Platinum are easier to churn"
      ],
      "metadata": {
        "colab": {
          "base_uri": "https://localhost:8080/"
        },
        "id": "hgNLPGor9lwv",
        "outputId": "fb9054ed-9bda-49b9-99d7-1d8af2150394"
      },
      "execution_count": 9,
      "outputs": [
        {
          "output_type": "execute_result",
          "data": {
            "text/plain": [
              "Card_Category\n",
              "Silver      0.147748\n",
              "Blue        0.160979\n",
              "Gold        0.181034\n",
              "Platinum    0.250000\n",
              "Name: Churned, dtype: float64"
            ]
          },
          "metadata": {},
          "execution_count": 9
        }
      ]
    },
    {
      "cell_type": "markdown",
      "source": [
        "## Customer Behaviors"
      ],
      "metadata": {
        "id": "R4g4aDzmjySX"
      }
    },
    {
      "cell_type": "code",
      "source": [
        "print(data.groupby(['Churned'])['Months_on_book'].mean())\n",
        "data.groupby(['Churned']).boxplot(column=['Months_on_book'], figsize=(10,5))\n",
        "plt.show()\n",
        "# Surprisingly, new and old customer are equally likely to churn"
      ],
      "metadata": {
        "colab": {
          "base_uri": "https://localhost:8080/",
          "height": 407
        },
        "id": "pYC-ZRGIIzsN",
        "outputId": "33fd3567-88ac-418b-f887-3599d20931d5"
      },
      "execution_count": 11,
      "outputs": [
        {
          "output_type": "stream",
          "name": "stdout",
          "text": [
            "Churned\n",
            "0    35.880588\n",
            "1    36.178242\n",
            "Name: Months_on_book, dtype: float64\n"
          ]
        },
        {
          "output_type": "display_data",
          "data": {
            "text/plain": [
              "<Figure size 720x360 with 2 Axes>"
            ],
            "image/png": "[encoded data removed]"
          },
          "metadata": {
            "needs_background": "light"
          }
        }
      ]
    },
    {
      "cell_type": "code",
      "source": [
        "print(data.groupby(['Churned'])['Total_Relationship_Count'].mean())\n",
        "data.groupby(['Churned']).boxplot(column=['Total_Relationship_Count'], figsize=(10,5))\n",
        "plt.show()\n",
        "# Churned customers have less contacts"
      ],
      "metadata": {
        "colab": {
          "base_uri": "https://localhost:8080/",
          "height": 407
        },
        "id": "Dnmlo_dPJm0b",
        "outputId": "63fc5b92-7480-463f-a055-b8da34827a7d"
      },
      "execution_count": 10,
      "outputs": [
        {
          "output_type": "stream",
          "name": "stdout",
          "text": [
            "Churned\n",
            "0    3.914588\n",
            "1    3.279656\n",
            "Name: Total_Relationship_Count, dtype: float64\n"
          ]
        },
        {
          "output_type": "display_data",
          "data": {
            "text/plain": [
              "<Figure size 720x360 with 2 Axes>"
            ],
            "image/png": "[encoded data removed]"
          },
          "metadata": {
            "needs_background": "light"
          }
        }
      ]
    },
    {
      "cell_type": "code",
      "source": [
        "data['ln_Credit_Limit'] = data['Credit_Limit'].apply(np.log)\n",
        "print(data.groupby(['Churned'])['ln_Credit_Limit'].mean())\n",
        "data.groupby(['Churned']).boxplot(column=['ln_Credit_Limit'], figsize=(10,5))\n",
        "plt.show()"
      ],
      "metadata": {
        "colab": {
          "base_uri": "https://localhost:8080/",
          "height": 407
        },
        "id": "ipg4S0dAKBPw",
        "outputId": "96b0c53a-4e20-46e3-b711-a05b150054a9"
      },
      "execution_count": 16,
      "outputs": [
        {
          "output_type": "stream",
          "name": "stdout",
          "text": [
            "Churned\n",
            "0    8.621967\n",
            "1    8.506475\n",
            "Name: ln_Credit_Limit, dtype: float64\n"
          ]
        },
        {
          "output_type": "display_data",
          "data": {
            "text/plain": [
              "<Figure size 720x360 with 2 Axes>"
            ],
            "image/png": "[encoded data removed]"
          },
          "metadata": {
            "needs_background": "light"
          }
        }
      ]
    },
    {
      "cell_type": "code",
      "source": [
        "data['ln_Total_Revolving_Bal'] = data['Total_Revolving_Bal'].apply(lambda x: np.log(x+1))\n",
        "print(data.groupby(['Churned'])['ln_Total_Revolving_Bal'].mean())\n",
        "data.groupby(['Churned']).boxplot(column=['ln_Total_Revolving_Bal'], figsize=(10,5))\n",
        "plt.show()"
      ],
      "metadata": {
        "colab": {
          "base_uri": "https://localhost:8080/",
          "height": 407
        },
        "id": "1vMsxvvfKEnX",
        "outputId": "8152a6b1-a2a8-487c-f041-b9f40cb740cb"
      },
      "execution_count": 15,
      "outputs": [
        {
          "output_type": "stream",
          "name": "stdout",
          "text": [
            "Churned\n",
            "0    5.929794\n",
            "1    3.199864\n",
            "Name: ln_Total_Revolving_Bal, dtype: float64\n"
          ]
        },
        {
          "output_type": "display_data",
          "data": {
            "text/plain": [
              "<Figure size 720x360 with 2 Axes>"
            ],
            "image/png": "[encoded data removed]"
          },
          "metadata": {
            "needs_background": "light"
          }
        }
      ]
    },
    {
      "cell_type": "code",
      "source": [
        "data['ln_Total_Trans_Amt'] = data['Total_Trans_Amt'].apply(np.log)\n",
        "print(data.groupby(['Churned'])['ln_Total_Trans_Amt'].mean())\n",
        "data.groupby(['Churned']).boxplot(column=['ln_Total_Trans_Amt'], figsize=(10,5))\n",
        "plt.show()"
      ],
      "metadata": {
        "colab": {
          "base_uri": "https://localhost:8080/",
          "height": 407
        },
        "id": "7oe7YclwKFkZ",
        "outputId": "a728d501-c49d-46c3-d6a0-3f22d1f78a65"
      },
      "execution_count": 17,
      "outputs": [
        {
          "output_type": "stream",
          "name": "stdout",
          "text": [
            "Churned\n",
            "0    8.229806\n",
            "1    7.825284\n",
            "Name: ln_Total_Trans_Amt, dtype: float64\n"
          ]
        },
        {
          "output_type": "display_data",
          "data": {
            "text/plain": [
              "<Figure size 720x360 with 2 Axes>"
            ],
            "image/png": "[encoded data removed]"
          },
          "metadata": {
            "needs_background": "light"
          }
        }
      ]
    },
    {
      "cell_type": "code",
      "source": [
        "print(data.groupby(['Churned'])['Avg_Utilization_Ratio'].mean())\n",
        "data.groupby(['Churned']).boxplot(column=['Avg_Utilization_Ratio'], figsize=(10,5))\n",
        "plt.show()"
      ],
      "metadata": {
        "colab": {
          "base_uri": "https://localhost:8080/",
          "height": 407
        },
        "id": "BtUPjBX5KJoU",
        "outputId": "ddebd76d-635e-412c-92b3-e2bb800197c8"
      },
      "execution_count": 18,
      "outputs": [
        {
          "output_type": "stream",
          "name": "stdout",
          "text": [
            "Churned\n",
            "0    0.296412\n",
            "1    0.162475\n",
            "Name: Avg_Utilization_Ratio, dtype: float64\n"
          ]
        },
        {
          "output_type": "display_data",
          "data": {
            "text/plain": [
              "<Figure size 720x360 with 2 Axes>"
            ],
            "image/png": "[encoded data removed]"
          },
          "metadata": {
            "needs_background": "light"
          }
        }
      ]
    },
    {
      "cell_type": "code",
      "source": [
        "data.groupby(['Churned']).boxplot(column=['Months_Inactive_12_mon'], figsize=(10,5))\n",
        "plt.show()"
      ],
      "metadata": {
        "colab": {
          "base_uri": "https://localhost:8080/",
          "height": 335
        },
        "id": "a4n09hByNk9p",
        "outputId": "62b2059c-b0e8-40ba-955d-f25db9d3c3de"
      },
      "execution_count": 20,
      "outputs": [
        {
          "output_type": "display_data",
          "data": {
            "text/plain": [
              "<Figure size 720x360 with 2 Axes>"
            ],
            "image/png": "[encoded data removed]"
          },
          "metadata": {
            "needs_background": "light"
          }
        }
      ]
    },
    {
      "cell_type": "code",
      "source": [
        "data.groupby(['Churned']).boxplot(column=['Contacts_Count_12_mon'], figsize=(10,5))\n",
        "plt.show()\n",
        "# Weird though, Churned customers have more contacts in the last 12 months"
      ],
      "metadata": {
        "colab": {
          "base_uri": "https://localhost:8080/",
          "height": 335
        },
        "id": "K7O5fZoXNufW",
        "outputId": "3d89ac78-3576-4ecf-a135-de7f53522c79"
      },
      "execution_count": 21,
      "outputs": [
        {
          "output_type": "display_data",
          "data": {
            "text/plain": [
              "<Figure size 720x360 with 2 Axes>"
            ],
            "image/png": "[encoded data removed]"
          },
          "metadata": {
            "needs_background": "light"
          }
        }
      ]
    },
    {
      "cell_type": "code",
      "source": [
        "data['ln_Avg_Open_To_Buy'] = data['Avg_Open_To_Buy'].apply(lambda x: np.log(x+1))\n",
        "print(data.groupby(['Churned'])['ln_Avg_Open_To_Buy'].mean())\n",
        "data.groupby(['Churned']).boxplot(column=['ln_Avg_Open_To_Buy'], figsize=(10,5))\n",
        "plt.show()"
      ],
      "metadata": {
        "colab": {
          "base_uri": "https://localhost:8080/",
          "height": 407
        },
        "id": "IifyZowkNwyv",
        "outputId": "42ea8882-35ee-4185-acaa-2f5f7dd2e3f0"
      },
      "execution_count": 23,
      "outputs": [
        {
          "output_type": "stream",
          "name": "stdout",
          "text": [
            "Churned\n",
            "0    8.154636\n",
            "1    8.216272\n",
            "Name: ln_Avg_Open_To_Buy, dtype: float64\n"
          ]
        },
        {
          "output_type": "display_data",
          "data": {
            "text/plain": [
              "<Figure size 720x360 with 2 Axes>"
            ],
            "image/png": "[encoded data removed]"
          },
          "metadata": {
            "needs_background": "light"
          }
        }
      ]
    },
    {
      "cell_type": "code",
      "source": [
        "data.groupby(['Churned']).boxplot(column=['Total_Amt_Chng_Q4_Q1'], figsize=(10,5))\n",
        "plt.show()"
      ],
      "metadata": {
        "colab": {
          "base_uri": "https://localhost:8080/",
          "height": 335
        },
        "id": "_2ZFsBT9N1CB",
        "outputId": "9683993f-55b3-4654-ac0b-1a62ddf8acd5"
      },
      "execution_count": 24,
      "outputs": [
        {
          "output_type": "display_data",
          "data": {
            "text/plain": [
              "<Figure size 720x360 with 2 Axes>"
            ],
            "image/png": "[encoded data removed]"
          },
          "metadata": {
            "needs_background": "light"
          }
        }
      ]
    },
    {
      "cell_type": "code",
      "source": [
        "data.groupby(['Churned']).boxplot(column=['Total_Ct_Chng_Q4_Q1'], figsize=(10,5))\n",
        "plt.show()"
      ],
      "metadata": {
        "colab": {
          "base_uri": "https://localhost:8080/",
          "height": 335
        },
        "id": "cg5gQhL0N4Ie",
        "outputId": "6b605b5b-c678-4ff4-e4c4-5a2b05aeee21"
      },
      "execution_count": 25,
      "outputs": [
        {
          "output_type": "display_data",
          "data": {
            "text/plain": [
              "<Figure size 720x360 with 2 Axes>"
            ],
            "image/png": "[encoded data removed]"
          },
          "metadata": {
            "needs_background": "light"
          }
        }
      ]
    },
    {
      "cell_type": "code",
      "source": [
        "corr_df = data[['ln_Credit_Limit','ln_Total_Revolving_Bal',\n",
        "                'ln_Total_Trans_Amt','Avg_Utilization_Ratio',\n",
        "                'Total_Ct_Chng_Q4_Q1','Total_Amt_Chng_Q4_Q1',\n",
        "                'Total_Relationship_Count', 'Months_on_book',\n",
        "                'Months_Inactive_12_mon', 'Contacts_Count_12_mon']].corr()\n",
        "plt.figure(figsize=(16, 10))\n",
        "heatmap = sns.heatmap(corr_df, vmin=-1, vmax=1, annot=True,cmap=\"coolwarm\")\n",
        "heatmap.set_title('Correlation Heatmap', fontdict={'fontsize':15}, pad=12)\n",
        "plt.show()\n",
        "# No strongly correlated numeric features"
      ],
      "metadata": {
        "colab": {
          "base_uri": "https://localhost:8080/",
          "height": 731
        },
        "id": "eMxY--rfs-jD",
        "outputId": "88193e84-e42f-458a-9a0d-6fb339e28598"
      },
      "execution_count": 26,
      "outputs": [
        {
          "output_type": "display_data",
          "data": {
            "text/plain": [
              "<Figure size 1152x720 with 2 Axes>"
            ],
            "image/png": "[encoded data removed]"
          },
          "metadata": {
            "needs_background": "light"
          }
        }
      ]
    },
    {
      "cell_type": "markdown",
      "source": [
        "# **Feature Engineering**"
      ],
      "metadata": {
        "id": "H5OhwtEHRMDu"
      }
    },
    {
      "cell_type": "code",
      "source": [
        "data['Male'] = data['Gender'].apply(lambda x: int(x=='M'))\n",
        "data['PostGraduate'] = data['Education_Level'].apply(lambda x: x=='Post-Graduate')\n",
        "data['Doctorate'] = data['Education_Level'].apply(lambda x: int(x=='Doctorate'))"
      ],
      "metadata": {
        "id": "luDsOrVeru1I"
      },
      "execution_count": 27,
      "outputs": []
    },
    {
      "cell_type": "code",
      "source": [
        "data = pd.get_dummies(data,\n",
        "                      columns=['Marital_Status','Income_Category','Card_Category'],\n",
        "                      drop_first=True)"
      ],
      "metadata": {
        "id": "ce4kkjHQyq6I"
      },
      "execution_count": 28,
      "outputs": []
    },
    {
      "cell_type": "code",
      "source": [
        "features = [\n",
        "    'PostGraduate',\n",
        "    'Doctorate',\n",
        "    'Dependent_count',\n",
        "    'Marital_Status_Married',\n",
        "    'Marital_Status_Single',\n",
        "    'Marital_Status_Unknown',\n",
        "    'Income_Category_$40K - $60K',\n",
        "    'Income_Category_$60K - $80K',\n",
        "    'Income_Category_$80K - $120K',\n",
        "    'Income_Category_Less than $40K',\n",
        "    'Income_Category_Unknown',\n",
        "    'Card_Category_Gold',\n",
        "    'Card_Category_Platinum',\n",
        "    'Card_Category_Silver',\n",
        "    'Total_Relationship_Count',\n",
        "    'Months_Inactive_12_mon',\n",
        "    'Contacts_Count_12_mon',\n",
        "    'ln_Total_Trans_Amt',\n",
        "    'ln_Credit_Limit',\n",
        "    'ln_Total_Revolving_Bal',\n",
        "    'Avg_Utilization_Ratio',\n",
        "    'Total_Amt_Chng_Q4_Q1',\n",
        "    'Total_Ct_Chng_Q4_Q1'\n",
        "]\n",
        "X=data[features]\n",
        "y=data['Churned']"
      ],
      "metadata": {
        "id": "0cebQIM7oryP"
      },
      "execution_count": 68,
      "outputs": []
    },
    {
      "cell_type": "markdown",
      "source": [
        "# **Modeling**"
      ],
      "metadata": {
        "id": "etTqfvHl78oe"
      }
    },
    {
      "cell_type": "code",
      "source": [
        "from sklearn.model_selection import train_test_split\n",
        "\n",
        "X_train, X_test, y_train, y_test = train_test_split(X, y, test_size=0.2, random_state=42)"
      ],
      "metadata": {
        "id": "UOTxpCIo8PjR"
      },
      "execution_count": 69,
      "outputs": []
    },
    {
      "cell_type": "markdown",
      "source": [
        "## Logistic Regression"
      ],
      "metadata": {
        "id": "kRTHQ25i_Wag"
      }
    },
    {
      "cell_type": "code",
      "source": [
        "from sklearn.linear_model import LogisticRegressionCV\n",
        "from sklearn.metrics import classification_report, roc_auc_score"
      ],
      "metadata": {
        "id": "FENWvLweBLBo"
      },
      "execution_count": 47,
      "outputs": []
    },
    {
      "cell_type": "code",
      "source": [
        "clf_logi = LogisticRegressionCV(cv=5, random_state=0, max_iter=500)\n",
        "clf_logi.fit(X_train, y_train)\n",
        "y_pred = clf_logi.predict_proba(X_test)[:,1]"
      ],
      "metadata": {
        "id": "wmxLQ-yt-8A8"
      },
      "execution_count": 48,
      "outputs": []
    },
    {
      "cell_type": "code",
      "source": [
        "print(roc_auc_score(y_test,y_pred))\n",
        "print(classification_report(y_test, y_pred>0.5))"
      ],
      "metadata": {
        "colab": {
          "base_uri": "https://localhost:8080/"
        },
        "id": "SHCLmkA9AJt8",
        "outputId": "e6ac2f0e-b49f-4e93-9e6c-961216c35bbe"
      },
      "execution_count": 49,
      "outputs": [
        {
          "output_type": "stream",
          "name": "stdout",
          "text": [
            "0.8507216873390175\n",
            "              precision    recall  f1-score   support\n",
            "\n",
            "           0       0.90      0.97      0.93      1699\n",
            "           1       0.75      0.43      0.54       327\n",
            "\n",
            "    accuracy                           0.88      2026\n",
            "   macro avg       0.82      0.70      0.74      2026\n",
            "weighted avg       0.87      0.88      0.87      2026\n",
            "\n"
          ]
        }
      ]
    },
    {
      "cell_type": "markdown",
      "source": [
        "## Random Forest"
      ],
      "metadata": {
        "id": "mlrvOZSJ_Rwp"
      }
    },
    {
      "cell_type": "code",
      "source": [
        "from sklearn.ensemble import RandomForestClassifier"
      ],
      "metadata": {
        "id": "cNYeCnZ8BMSZ"
      },
      "execution_count": 50,
      "outputs": []
    },
    {
      "cell_type": "code",
      "source": [
        "clf_rf = RandomForestClassifier(random_state=0)\n",
        "clf_rf.fit(X_train, y_train)\n",
        "y_pred = clf_rf.predict_proba(X_test)[:,1]"
      ],
      "metadata": {
        "id": "Y6rggtDajbg_"
      },
      "execution_count": 51,
      "outputs": []
    },
    {
      "cell_type": "code",
      "source": [
        "print(roc_auc_score(y_test,y_pred))\n",
        "print(classification_report(y_test, y_pred>0.5))"
      ],
      "metadata": {
        "colab": {
          "base_uri": "https://localhost:8080/"
        },
        "id": "8FzM8Ppd9BTj",
        "outputId": "02e658fe-993a-4c5b-9ab1-6945d32077bd"
      },
      "execution_count": 52,
      "outputs": [
        {
          "output_type": "stream",
          "name": "stdout",
          "text": [
            "0.9727740548946763\n",
            "              precision    recall  f1-score   support\n",
            "\n",
            "           0       0.94      0.98      0.96      1699\n",
            "           1       0.89      0.66      0.76       327\n",
            "\n",
            "    accuracy                           0.93      2026\n",
            "   macro avg       0.92      0.82      0.86      2026\n",
            "weighted avg       0.93      0.93      0.93      2026\n",
            "\n"
          ]
        }
      ]
    },
    {
      "cell_type": "markdown",
      "source": [
        "## XGBoost"
      ],
      "metadata": {
        "id": "2zPfI8B9A4v5"
      }
    },
    {
      "cell_type": "code",
      "source": [
        "from xgboost import XGBClassifier"
      ],
      "metadata": {
        "id": "McKw8YB8AP1J"
      },
      "execution_count": 53,
      "outputs": []
    },
    {
      "cell_type": "code",
      "source": [
        "clf_xgb = XGBClassifier(random_state=0)\n",
        "clf_xgb.fit(X_train, y_train)\n",
        "y_pred = clf_xgb.predict_proba(X_test)[:,1]"
      ],
      "metadata": {
        "id": "KA8TkWp5BDT4"
      },
      "execution_count": 54,
      "outputs": []
    },
    {
      "cell_type": "code",
      "source": [
        "print(roc_auc_score(y_test,y_pred))\n",
        "print(classification_report(y_test, y_pred>0.5))"
      ],
      "metadata": {
        "colab": {
          "base_uri": "https://localhost:8080/"
        },
        "id": "yDUAKfhJBbR5",
        "outputId": "eaa1c215-b2e1-458c-b177-95562bdc7398"
      },
      "execution_count": 55,
      "outputs": [
        {
          "output_type": "stream",
          "name": "stdout",
          "text": [
            "0.977424208879841\n",
            "              precision    recall  f1-score   support\n",
            "\n",
            "           0       0.95      0.98      0.97      1699\n",
            "           1       0.90      0.74      0.81       327\n",
            "\n",
            "    accuracy                           0.95      2026\n",
            "   macro avg       0.93      0.86      0.89      2026\n",
            "weighted avg       0.94      0.95      0.94      2026\n",
            "\n"
          ]
        }
      ]
    },
    {
      "cell_type": "markdown",
      "source": [
        "XGBoost and Random Forest seems to the better options comparing to Logistic Regression"
      ],
      "metadata": {
        "id": "A6SfYPWYNfri"
      }
    },
    {
      "cell_type": "markdown",
      "source": [
        "## Model selection"
      ],
      "metadata": {
        "id": "3RLN-66FEFyr"
      }
    },
    {
      "cell_type": "code",
      "source": [
        "from sklearn.model_selection import cross_val_score"
      ],
      "metadata": {
        "id": "efxSgzOLCr4O"
      },
      "execution_count": 42,
      "outputs": []
    },
    {
      "cell_type": "code",
      "source": [
        "scores_rf = cross_val_score(clf_rf, X_train, y_train, cv=5,scoring='roc_auc')\n",
        "print(scores_rf.mean())\n",
        "print(scores_rf.std())"
      ],
      "metadata": {
        "colab": {
          "base_uri": "https://localhost:8080/"
        },
        "id": "hkowIJoUCwza",
        "outputId": "f99e4e2c-f043-4e0b-fc20-a6983ed606a6"
      },
      "execution_count": 56,
      "outputs": [
        {
          "output_type": "stream",
          "name": "stdout",
          "text": [
            "0.9710427917238789\n",
            "0.004229005106928051\n"
          ]
        }
      ]
    },
    {
      "cell_type": "code",
      "source": [
        "scores_xgb = cross_val_score(clf_xgb, X_train, y_train, cv=5,scoring='roc_auc')\n",
        "print(scores_xgb.mean())\n",
        "print(scores_xgb.std())"
      ],
      "metadata": {
        "colab": {
          "base_uri": "https://localhost:8080/"
        },
        "id": "Ot-F4JEXD8zo",
        "outputId": "b9ff4213-023a-4a60-cf25-3e4b7a42b6f6"
      },
      "execution_count": 57,
      "outputs": [
        {
          "output_type": "stream",
          "name": "stdout",
          "text": [
            "0.9799162925018534\n",
            "0.003942920373096226\n"
          ]
        }
      ]
    },
    {
      "cell_type": "markdown",
      "source": [
        "We will move on with XGBoost because it is more accurate (higher mean) and robust (lower standard deviation)."
      ],
      "metadata": {
        "id": "U7xRptuENxuq"
      }
    },
    {
      "cell_type": "markdown",
      "source": [
        "# Feature Selection using permutation importance"
      ],
      "metadata": {
        "id": "i9n2RWRxCQVg"
      }
    },
    {
      "cell_type": "code",
      "source": [
        "from sklearn.inspection import permutation_importance"
      ],
      "metadata": {
        "id": "jhXzsHPgCScO"
      },
      "execution_count": 58,
      "outputs": []
    },
    {
      "cell_type": "code",
      "source": [
        "imps = permutation_importance(clf_xgb, X_test, y_test,\n",
        "                              scoring=\"roc_auc\",\n",
        "                              random_state = 42)\n",
        "pd.DataFrame([X_test.columns.to_list(),\n",
        "              imps.importances_mean],\n",
        "              index = [\"Feature\",\"Score\"])\\\n",
        "              .transpose()\\\n",
        "              .sort_values(by = 'Score',ascending = False)\\\n",
        "              .reset_index(drop = True)"
      ],
      "metadata": {
        "colab": {
          "base_uri": "https://localhost:8080/",
          "height": 770
        },
        "id": "uzMuo-95Evi8",
        "outputId": "c1ba4f7a-94ba-47d7-d178-c687fbc9f057"
      },
      "execution_count": 59,
      "outputs": [
        {
          "output_type": "execute_result",
          "data": {
            "text/plain": [
              "                           Feature     Score\n",
              "0               ln_Total_Trans_Amt  0.193973\n",
              "1           ln_Total_Revolving_Bal  0.033602\n",
              "2         Total_Relationship_Count  0.019339\n",
              "3             Total_Amt_Chng_Q4_Q1   0.01618\n",
              "4              Total_Ct_Chng_Q4_Q1  0.014704\n",
              "5           Months_Inactive_12_mon  0.005264\n",
              "6            Contacts_Count_12_mon  0.002718\n",
              "7                  ln_Credit_Limit  0.000832\n",
              "8            Avg_Utilization_Ratio  0.000764\n",
              "9                  Dependent_count  0.000742\n",
              "10     Income_Category_$60K - $80K  0.000017\n",
              "11          Marital_Status_Married  0.000014\n",
              "12            Card_Category_Silver       0.0\n",
              "13                    PostGraduate       0.0\n",
              "14          Card_Category_Platinum       0.0\n",
              "15                       Doctorate       0.0\n",
              "16         Income_Category_Unknown       0.0\n",
              "17  Income_Category_Less than $40K       0.0\n",
              "18    Income_Category_$80K - $120K       0.0\n",
              "19     Income_Category_$40K - $60K       0.0\n",
              "20          Marital_Status_Unknown       0.0\n",
              "21           Marital_Status_Single       0.0\n",
              "22              Card_Category_Gold       0.0"
            ],
            "text/html": [
              "\n",
              "  <div id=\"df-cec2ea33-db3e-4e23-aca3-90c0e28a2787\">\n",
              "    <div class=\"colab-df-container\">\n",
              "      <div>\n",
              "<style scoped>\n",
              "    .dataframe tbody tr th:only-of-type {\n",
              "        vertical-align: middle;\n",
              "    }\n",
              "\n",
              "    .dataframe tbody tr th {\n",
              "        vertical-align: top;\n",
              "    }\n",
              "\n",
              "    .dataframe thead th {\n",
              "        text-align: right;\n",
              "    }\n",
              "</style>\n",
              "<table border=\"1\" class=\"dataframe\">\n",
              "  <thead>\n",
              "    <tr style=\"text-align: right;\">\n",
              "      <th></th>\n",
              "      <th>Feature</th>\n",
              "      <th>Score</th>\n",
              "    </tr>\n",
              "  </thead>\n",
              "  <tbody>\n",
              "    <tr>\n",
              "      <th>0</th>\n",
              "      <td>ln_Total_Trans_Amt</td>\n",
              "      <td>0.193973</td>\n",
              "    </tr>\n",
              "    <tr>\n",
              "      <th>1</th>\n",
              "      <td>ln_Total_Revolving_Bal</td>\n",
              "      <td>0.033602</td>\n",
              "    </tr>\n",
              "    <tr>\n",
              "      <th>2</th>\n",
              "      <td>Total_Relationship_Count</td>\n",
              "      <td>0.019339</td>\n",
              "    </tr>\n",
              "    <tr>\n",
              "      <th>3</th>\n",
              "      <td>Total_Amt_Chng_Q4_Q1</td>\n",
              "      <td>0.01618</td>\n",
              "    </tr>\n",
              "    <tr>\n",
              "      <th>4</th>\n",
              "      <td>Total_Ct_Chng_Q4_Q1</td>\n",
              "      <td>0.014704</td>\n",
              "    </tr>\n",
              "    <tr>\n",
              "      <th>5</th>\n",
              "      <td>Months_Inactive_12_mon</td>\n",
              "      <td>0.005264</td>\n",
              "    </tr>\n",
              "    <tr>\n",
              "      <th>6</th>\n",
              "      <td>Contacts_Count_12_mon</td>\n",
              "      <td>0.002718</td>\n",
              "    </tr>\n",
              "    <tr>\n",
              "      <th>7</th>\n",
              "      <td>ln_Credit_Limit</td>\n",
              "      <td>0.000832</td>\n",
              "    </tr>\n",
              "    <tr>\n",
              "      <th>8</th>\n",
              "      <td>Avg_Utilization_Ratio</td>\n",
              "      <td>0.000764</td>\n",
              "    </tr>\n",
              "    <tr>\n",
              "      <th>9</th>\n",
              "      <td>Dependent_count</td>\n",
              "      <td>0.000742</td>\n",
              "    </tr>\n",
              "    <tr>\n",
              "      <th>10</th>\n",
              "      <td>Income_Category_$60K - $80K</td>\n",
              "      <td>0.000017</td>\n",
              "    </tr>\n",
              "    <tr>\n",
              "      <th>11</th>\n",
              "      <td>Marital_Status_Married</td>\n",
              "      <td>0.000014</td>\n",
              "    </tr>\n",
              "    <tr>\n",
              "      <th>12</th>\n",
              "      <td>Card_Category_Silver</td>\n",
              "      <td>0.0</td>\n",
              "    </tr>\n",
              "    <tr>\n",
              "      <th>13</th>\n",
              "      <td>PostGraduate</td>\n",
              "      <td>0.0</td>\n",
              "    </tr>\n",
              "    <tr>\n",
              "      <th>14</th>\n",
              "      <td>Card_Category_Platinum</td>\n",
              "      <td>0.0</td>\n",
              "    </tr>\n",
              "    <tr>\n",
              "      <th>15</th>\n",
              "      <td>Doctorate</td>\n",
              "      <td>0.0</td>\n",
              "    </tr>\n",
              "    <tr>\n",
              "      <th>16</th>\n",
              "      <td>Income_Category_Unknown</td>\n",
              "      <td>0.0</td>\n",
              "    </tr>\n",
              "    <tr>\n",
              "      <th>17</th>\n",
              "      <td>Income_Category_Less than $40K</td>\n",
              "      <td>0.0</td>\n",
              "    </tr>\n",
              "    <tr>\n",
              "      <th>18</th>\n",
              "      <td>Income_Category_$80K - $120K</td>\n",
              "      <td>0.0</td>\n",
              "    </tr>\n",
              "    <tr>\n",
              "      <th>19</th>\n",
              "      <td>Income_Category_$40K - $60K</td>\n",
              "      <td>0.0</td>\n",
              "    </tr>\n",
              "    <tr>\n",
              "      <th>20</th>\n",
              "      <td>Marital_Status_Unknown</td>\n",
              "      <td>0.0</td>\n",
              "    </tr>\n",
              "    <tr>\n",
              "      <th>21</th>\n",
              "      <td>Marital_Status_Single</td>\n",
              "      <td>0.0</td>\n",
              "    </tr>\n",
              "    <tr>\n",
              "      <th>22</th>\n",
              "      <td>Card_Category_Gold</td>\n",
              "      <td>0.0</td>\n",
              "    </tr>\n",
              "  </tbody>\n",
              "</table>\n",
              "</div>\n",
              "      <button class=\"colab-df-convert\" onclick=\"convertToInteractive('df-cec2ea33-db3e-4e23-aca3-90c0e28a2787')\"\n",
              "              title=\"Convert this dataframe to an interactive table.\"\n",
              "              style=\"display:none;\">\n",
              "        \n",
              "  <svg xmlns=\"http://www.w3.org/2000/svg\" height=\"24px\"viewBox=\"0 0 24 24\"\n",
              "       width=\"24px\">\n",
              "    <path d=\"M0 0h24v24H0V0z\" fill=\"none\"/>\n",
              "    <path d=\"M18.56 5.44l.94 2.06.94-2.06 2.06-.94-2.06-.94-.94-2.06-.94 2.06-2.06.94zm-11 1L8.5 8.5l.94-2.06 2.06-.94-2.06-.94L8.5 2.5l-.94 2.06-2.06.94zm10 10l.94 2.06.94-2.06 2.06-.94-2.06-.94-.94-2.06-.94 2.06-2.06.94z\"/><path d=\"M17.41 7.96l-1.37-1.37c-.4-.4-.92-.59-1.43-.59-.52 0-1.04.2-1.43.59L10.3 9.45l-7.72 7.72c-.78.78-.78 2.05 0 2.83L4 21.41c.39.39.9.59 1.41.59.51 0 1.02-.2 1.41-.59l7.78-7.78 2.81-2.81c.8-.78.8-2.07 0-2.86zM5.41 20L4 18.59l7.72-7.72 1.47 1.35L5.41 20z\"/>\n",
              "  </svg>\n",
              "      </button>\n",
              "      \n",
              "  <style>\n",
              "    .colab-df-container {\n",
              "      display:flex;\n",
              "      flex-wrap:wrap;\n",
              "      gap: 12px;\n",
              "    }\n",
              "\n",
              "    .colab-df-convert {\n",
              "      background-color: #E8F0FE;\n",
              "      border: none;\n",
              "      border-radius: 50%;\n",
              "      cursor: pointer;\n",
              "      display: none;\n",
              "      fill: #1967D2;\n",
              "      height: 32px;\n",
              "      padding: 0 0 0 0;\n",
              "      width: 32px;\n",
              "    }\n",
              "\n",
              "    .colab-df-convert:hover {\n",
              "      background-color: #E2EBFA;\n",
              "      box-shadow: 0px 1px 2px rgba(60, 64, 67, 0.3), 0px 1px 3px 1px rgba(60, 64, 67, 0.15);\n",
              "      fill: #174EA6;\n",
              "    }\n",
              "\n",
              "    [theme=dark] .colab-df-convert {\n",
              "      background-color: #3B4455;\n",
              "      fill: #D2E3FC;\n",
              "    }\n",
              "\n",
              "    [theme=dark] .colab-df-convert:hover {\n",
              "      background-color: #434B5C;\n",
              "      box-shadow: 0px 1px 3px 1px rgba(0, 0, 0, 0.15);\n",
              "      filter: drop-shadow(0px 1px 2px rgba(0, 0, 0, 0.3));\n",
              "      fill: #FFFFFF;\n",
              "    }\n",
              "  </style>\n",
              "\n",
              "      <script>\n",
              "        const buttonEl =\n",
              "          document.querySelector('#df-cec2ea33-db3e-4e23-aca3-90c0e28a2787 button.colab-df-convert');\n",
              "        buttonEl.style.display =\n",
              "          google.colab.kernel.accessAllowed ? 'block' : 'none';\n",
              "\n",
              "        async function convertToInteractive(key) {\n",
              "          const element = document.querySelector('#df-cec2ea33-db3e-4e23-aca3-90c0e28a2787');\n",
              "          const dataTable =\n",
              "            await google.colab.kernel.invokeFunction('convertToInteractive',\n",
              "                                                     [key], {});\n",
              "          if (!dataTable) return;\n",
              "\n",
              "          const docLinkHtml = 'Like what you see? Visit the ' +\n",
              "            '<a target=\"_blank\" href=https://colab.research.google.com/notebooks/data_table.ipynb>data table notebook</a>'\n",
              "            + ' to learn more about interactive tables.';\n",
              "          element.innerHTML = '';\n",
              "          dataTable['output_type'] = 'display_data';\n",
              "          await google.colab.output.renderOutput(dataTable, element);\n",
              "          const docLink = document.createElement('div');\n",
              "          docLink.innerHTML = docLinkHtml;\n",
              "          element.appendChild(docLink);\n",
              "        }\n",
              "      </script>\n",
              "    </div>\n",
              "  </div>\n",
              "  "
            ]
          },
          "metadata": {},
          "execution_count": 59
        }
      ]
    },
    {
      "cell_type": "code",
      "source": [
        "features_final = [\n",
        "                  'Marital_Status_Married',\n",
        "                  'Dependent_count',\n",
        "                  'Income_Category_$60K - $80K',\n",
        "                  'ln_Total_Revolving_Bal',\n",
        "                  'ln_Credit_Limit',\n",
        "                  'ln_Total_Trans_Amt',\n",
        "                  'Total_Relationship_Count',\n",
        "                  'Total_Amt_Chng_Q4_Q1',\n",
        "                  'Total_Ct_Chng_Q4_Q1',\n",
        "                  'Months_Inactive_12_mon',\n",
        "                  'Contacts_Count_12_mon',\n",
        "                  'Avg_Utilization_Ratio'\n",
        "]\n",
        "X_train = X_train[features_final]\n",
        "X_test = X_test[features_final]"
      ],
      "metadata": {
        "id": "omJyv8I9GLZH"
      },
      "execution_count": 70,
      "outputs": []
    },
    {
      "cell_type": "code",
      "source": [
        "clf_xgb = XGBClassifier(random_state=0)\n",
        "clf_xgb.fit(X_train, y_train)\n",
        "y_pred = clf_xgb.predict_proba(X_test)[:,1]"
      ],
      "metadata": {
        "id": "VfarYdqtRKMO"
      },
      "execution_count": 80,
      "outputs": []
    },
    {
      "cell_type": "code",
      "source": [
        "print(roc_auc_score(y_test,y_pred))\n",
        "print(classification_report(y_test, y_pred>0.5))"
      ],
      "metadata": {
        "colab": {
          "base_uri": "https://localhost:8080/"
        },
        "outputId": "cfa04a22-0ec3-4528-fc4d-37bc53a857ab",
        "id": "FTJqDzFOGipZ"
      },
      "execution_count": 81,
      "outputs": [
        {
          "output_type": "stream",
          "name": "stdout",
          "text": [
            "0.977424208879841\n",
            "              precision    recall  f1-score   support\n",
            "\n",
            "           0       0.95      0.98      0.97      1699\n",
            "           1       0.90      0.74      0.81       327\n",
            "\n",
            "    accuracy                           0.95      2026\n",
            "   macro avg       0.93      0.86      0.89      2026\n",
            "weighted avg       0.94      0.95      0.94      2026\n",
            "\n"
          ]
        }
      ]
    },
    {
      "cell_type": "markdown",
      "source": [
        "To solve imbalanced dataset issue, we can adjust the model by putting more weight to the positive cases to improve recall for positive cases"
      ],
      "metadata": {
        "id": "fUUSwCEVRPhH"
      }
    },
    {
      "cell_type": "code",
      "source": [
        "weight = round(y_train.shape[0]/y_train.sum()-1,2)\n",
        "weight"
      ],
      "metadata": {
        "colab": {
          "base_uri": "https://localhost:8080/"
        },
        "id": "ZiOvCf1PQUTE",
        "outputId": "b09feaf8-99d0-4e00-9918-5f2e8fd01e85"
      },
      "execution_count": 85,
      "outputs": [
        {
          "output_type": "execute_result",
          "data": {
            "text/plain": [
              "5.23"
            ]
          },
          "metadata": {},
          "execution_count": 85
        }
      ]
    },
    {
      "cell_type": "code",
      "source": [
        "clf_xgb = XGBClassifier(random_state=0,scale_pos_weight=weight)\n",
        "clf_xgb.fit(X_train, y_train)\n",
        "y_pred = clf_xgb.predict_proba(X_test)[:,1]"
      ],
      "metadata": {
        "id": "2KdzzijZGipY"
      },
      "execution_count": 86,
      "outputs": []
    },
    {
      "cell_type": "code",
      "source": [
        "print(roc_auc_score(y_test,y_pred))\n",
        "print(classification_report(y_test, y_pred>0.5))"
      ],
      "metadata": {
        "colab": {
          "base_uri": "https://localhost:8080/"
        },
        "id": "tDgJU64rQ5x7",
        "outputId": "5771c10a-5849-4374-fc8a-734299374f6b"
      },
      "execution_count": 87,
      "outputs": [
        {
          "output_type": "stream",
          "name": "stdout",
          "text": [
            "0.97765640158899\n",
            "              precision    recall  f1-score   support\n",
            "\n",
            "           0       0.99      0.93      0.96      1699\n",
            "           1       0.72      0.93      0.81       327\n",
            "\n",
            "    accuracy                           0.93      2026\n",
            "   macro avg       0.85      0.93      0.88      2026\n",
            "weighted avg       0.94      0.93      0.93      2026\n",
            "\n"
          ]
        }
      ]
    },
    {
      "cell_type": "markdown",
      "source": [
        "# Recommendations based on SHAP analysis"
      ],
      "metadata": {
        "id": "q0J7kRQ-S8iD"
      }
    },
    {
      "cell_type": "code",
      "source": [
        "!pip install shap\n",
        "import shap"
      ],
      "metadata": {
        "id": "f3Fb7nou93gH"
      },
      "execution_count": null,
      "outputs": []
    },
    {
      "cell_type": "code",
      "source": [
        "xgb_explainer = shap.TreeExplainer(clf_xgb,X_train)\n",
        "shap_values = xgb_explainer.shap_values(X_train)"
      ],
      "metadata": {
        "id": "j3ow-v61JMJi"
      },
      "execution_count": null,
      "outputs": []
    },
    {
      "cell_type": "code",
      "source": [
        "shap.summary_plot(shap_values, features=X_train, feature_names=X_train.columns, plot_type='bar')"
      ],
      "metadata": {
        "colab": {
          "base_uri": "https://localhost:8080/",
          "height": 407
        },
        "id": "Jb2CSQJHfQzw",
        "outputId": "64359afc-8c5c-46b0-98cf-45ff9efe124f"
      },
      "execution_count": 90,
      "outputs": [
        {
          "output_type": "display_data",
          "data": {
            "text/plain": [
              "<Figure size 576x453.6 with 1 Axes>"
            ],
            "image/png": "[encoded data removed]"
          },
          "metadata": {
            "needs_background": "light"
          }
        }
      ]
    },
    {
      "cell_type": "code",
      "source": [
        "shap.summary_plot(shap_values, features=X_train, feature_names=X_train.columns)"
      ],
      "metadata": {
        "colab": {
          "base_uri": "https://localhost:8080/",
          "height": 411
        },
        "id": "Q85VOIqaR6L1",
        "outputId": "9bd6ec1e-2273-4e6f-be26-a9b7ca968f53"
      },
      "execution_count": 91,
      "outputs": [
        {
          "output_type": "display_data",
          "data": {
            "text/plain": [
              "<Figure size 576x453.6 with 2 Axes>"
            ],
            "image/png": "[encoded data removed]"
          },
          "metadata": {
            "needs_background": "light"
          }
        }
      ]
    },
    {
      "cell_type": "markdown",
      "source": [
        "Based on the SHAP values of the features, 3 recommendations are provided as follows:\n",
        "\n",
        "1. **Total transaction amount** in the last 12 months is the most important feature we need pay attention to the customers, customers with low transaction amount should be incentivized to use credit card more through promotion messages or emails.\n",
        "\n",
        "2. **Comparison in transaction amount and count with previous quarters** are also important, if the transaction shows a downward trend (less transaction in Q4 comparing to Q1), we should take actions to remind customers.\n",
        "\n",
        "3. **Increasing the number of products** held by the customer can also increase the chance of retention."
      ],
      "metadata": {
        "id": "uv4-aBwlUncK"
      }
    }
  ]
}