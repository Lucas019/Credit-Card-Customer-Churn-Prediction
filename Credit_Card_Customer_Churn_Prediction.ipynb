{
  "nbformat": 4,
  "nbformat_minor": 0,
  "metadata": {
    "colab": {
      "name": "Credit Card Customer Churn Prediction.ipynb",
      "provenance": [],
      "toc_visible": true,
      "authorship_tag": "ABX9TyN0JurRKeCtm1q/eFDtlBhy",
      "include_colab_link": true
    },
    "kernelspec": {
      "name": "python3",
      "display_name": "Python 3"
    },
    "language_info": {
      "name": "python"
    }
  },
  "cells": [
    {
      "cell_type": "markdown",
      "metadata": {
        "id": "view-in-github",
        "colab_type": "text"
      },
      "source": [
        "<a href=\"https://colab.research.google.com/github/Lucas019/Credit-Card-Customer-Churn-Prediction/blob/main/Credit_Card_Customer_Churn_Prediction.ipynb\" target=\"_parent\"><img src=\"https://colab.research.google.com/assets/colab-badge.svg\" alt=\"Open In Colab\"/></a>"
      ]
    },
    {
      "cell_type": "markdown",
      "source": [
        "# **Load Dataset**"
      ],
      "metadata": {
        "id": "nM0d7orjRA-u"
      }
    },
    {
      "cell_type": "code",
      "execution_count": 1,
      "metadata": {
        "id": "HnVVXdKc6-zd"
      },
      "outputs": [],
      "source": [
        "import pandas as pd\n",
        "import numpy as np\n",
        "import matplotlib.pyplot as plt\n",
        "import seaborn as sns\n",
        "pd.options.display.max_columns=50"
      ]
    },
    {
      "cell_type": "code",
      "source": [
        "data = pd.read_csv(\"/content/BankChurners.csv\",index_col = 'CLIENTNUM')\n",
        "data.head()"
      ],
      "metadata": {
        "colab": {
          "base_uri": "https://localhost:8080/",
          "height": 388
        },
        "id": "WTH6M0KV7LoE",
        "outputId": "ef983f36-32c9-499a-c673-adccb770dca5"
      },
      "execution_count": 2,
      "outputs": [
        {
          "output_type": "execute_result",
          "data": {
            "text/plain": [
              "              Attrition_Flag  Customer_Age Gender  Dependent_count  \\\n",
              "CLIENTNUM                                                            \n",
              "768805383  Existing Customer            45      M                3   \n",
              "818770008  Existing Customer            49      F                5   \n",
              "713982108  Existing Customer            51      M                3   \n",
              "769911858  Existing Customer            40      F                4   \n",
              "709106358  Existing Customer            40      M                3   \n",
              "\n",
              "          Education_Level Marital_Status Income_Category Card_Category  \\\n",
              "CLIENTNUM                                                                \n",
              "768805383     High School        Married     $60K - $80K          Blue   \n",
              "818770008        Graduate         Single  Less than $40K          Blue   \n",
              "713982108        Graduate        Married    $80K - $120K          Blue   \n",
              "769911858     High School        Unknown  Less than $40K          Blue   \n",
              "709106358      Uneducated        Married     $60K - $80K          Blue   \n",
              "\n",
              "           Months_on_book  Total_Relationship_Count  Months_Inactive_12_mon  \\\n",
              "CLIENTNUM                                                                     \n",
              "768805383              39                         5                       1   \n",
              "818770008              44                         6                       1   \n",
              "713982108              36                         4                       1   \n",
              "769911858              34                         3                       4   \n",
              "709106358              21                         5                       1   \n",
              "\n",
              "           Contacts_Count_12_mon  Credit_Limit  Total_Revolving_Bal  \\\n",
              "CLIENTNUM                                                             \n",
              "768805383                      3       12691.0                  777   \n",
              "818770008                      2        8256.0                  864   \n",
              "713982108                      0        3418.0                    0   \n",
              "769911858                      1        3313.0                 2517   \n",
              "709106358                      0        4716.0                    0   \n",
              "\n",
              "           Avg_Open_To_Buy  Total_Amt_Chng_Q4_Q1  Total_Trans_Amt  \\\n",
              "CLIENTNUM                                                           \n",
              "768805383          11914.0                 1.335             1144   \n",
              "818770008           7392.0                 1.541             1291   \n",
              "713982108           3418.0                 2.594             1887   \n",
              "769911858            796.0                 1.405             1171   \n",
              "709106358           4716.0                 2.175              816   \n",
              "\n",
              "           Total_Trans_Ct  Total_Ct_Chng_Q4_Q1  Avg_Utilization_Ratio  \\\n",
              "CLIENTNUM                                                               \n",
              "768805383              42                1.625                  0.061   \n",
              "818770008              33                3.714                  0.105   \n",
              "713982108              20                2.333                  0.000   \n",
              "769911858              20                2.333                  0.760   \n",
              "709106358              28                2.500                  0.000   \n",
              "\n",
              "           Naive_Bayes_Classifier_Attrition_Flag_Card_Category_Contacts_Count_12_mon_Dependent_count_Education_Level_Months_Inactive_12_mon_1  \\\n",
              "CLIENTNUM                                                                                                                                       \n",
              "768805383                                           0.000093                                                                                    \n",
              "818770008                                           0.000057                                                                                    \n",
              "713982108                                           0.000021                                                                                    \n",
              "769911858                                           0.000134                                                                                    \n",
              "709106358                                           0.000022                                                                                    \n",
              "\n",
              "           Naive_Bayes_Classifier_Attrition_Flag_Card_Category_Contacts_Count_12_mon_Dependent_count_Education_Level_Months_Inactive_12_mon_2  \n",
              "CLIENTNUM                                                                                                                                      \n",
              "768805383                                            0.99991                                                                                   \n",
              "818770008                                            0.99994                                                                                   \n",
              "713982108                                            0.99998                                                                                   \n",
              "769911858                                            0.99987                                                                                   \n",
              "709106358                                            0.99998                                                                                   "
            ],
            "text/html": [
              "\n",
              "  <div id=\"df-6b5ee81e-1d7f-4372-b2c0-60f0907ff300\">\n",
              "    <div class=\"colab-df-container\">\n",
              "      <div>\n",
              "<style scoped>\n",
              "    .dataframe tbody tr th:only-of-type {\n",
              "        vertical-align: middle;\n",
              "    }\n",
              "\n",
              "    .dataframe tbody tr th {\n",
              "        vertical-align: top;\n",
              "    }\n",
              "\n",
              "    .dataframe thead th {\n",
              "        text-align: right;\n",
              "    }\n",
              "</style>\n",
              "<table border=\"1\" class=\"dataframe\">\n",
              "  <thead>\n",
              "    <tr style=\"text-align: right;\">\n",
              "      <th></th>\n",
              "      <th>Attrition_Flag</th>\n",
              "      <th>Customer_Age</th>\n",
              "      <th>Gender</th>\n",
              "      <th>Dependent_count</th>\n",
              "      <th>Education_Level</th>\n",
              "      <th>Marital_Status</th>\n",
              "      <th>Income_Category</th>\n",
              "      <th>Card_Category</th>\n",
              "      <th>Months_on_book</th>\n",
              "      <th>Total_Relationship_Count</th>\n",
              "      <th>Months_Inactive_12_mon</th>\n",
              "      <th>Contacts_Count_12_mon</th>\n",
              "      <th>Credit_Limit</th>\n",
              "      <th>Total_Revolving_Bal</th>\n",
              "      <th>Avg_Open_To_Buy</th>\n",
              "      <th>Total_Amt_Chng_Q4_Q1</th>\n",
              "      <th>Total_Trans_Amt</th>\n",
              "      <th>Total_Trans_Ct</th>\n",
              "      <th>Total_Ct_Chng_Q4_Q1</th>\n",
              "      <th>Avg_Utilization_Ratio</th>\n",
              "      <th>Naive_Bayes_Classifier_Attrition_Flag_Card_Category_Contacts_Count_12_mon_Dependent_count_Education_Level_Months_Inactive_12_mon_1</th>\n",
              "      <th>Naive_Bayes_Classifier_Attrition_Flag_Card_Category_Contacts_Count_12_mon_Dependent_count_Education_Level_Months_Inactive_12_mon_2</th>\n",
              "    </tr>\n",
              "    <tr>\n",
              "      <th>CLIENTNUM</th>\n",
              "      <th></th>\n",
              "      <th></th>\n",
              "      <th></th>\n",
              "      <th></th>\n",
              "      <th></th>\n",
              "      <th></th>\n",
              "      <th></th>\n",
              "      <th></th>\n",
              "      <th></th>\n",
              "      <th></th>\n",
              "      <th></th>\n",
              "      <th></th>\n",
              "      <th></th>\n",
              "      <th></th>\n",
              "      <th></th>\n",
              "      <th></th>\n",
              "      <th></th>\n",
              "      <th></th>\n",
              "      <th></th>\n",
              "      <th></th>\n",
              "      <th></th>\n",
              "      <th></th>\n",
              "    </tr>\n",
              "  </thead>\n",
              "  <tbody>\n",
              "    <tr>\n",
              "      <th>768805383</th>\n",
              "      <td>Existing Customer</td>\n",
              "      <td>45</td>\n",
              "      <td>M</td>\n",
              "      <td>3</td>\n",
              "      <td>High School</td>\n",
              "      <td>Married</td>\n",
              "      <td>$60K - $80K</td>\n",
              "      <td>Blue</td>\n",
              "      <td>39</td>\n",
              "      <td>5</td>\n",
              "      <td>1</td>\n",
              "      <td>3</td>\n",
              "      <td>12691.0</td>\n",
              "      <td>777</td>\n",
              "      <td>11914.0</td>\n",
              "      <td>1.335</td>\n",
              "      <td>1144</td>\n",
              "      <td>42</td>\n",
              "      <td>1.625</td>\n",
              "      <td>0.061</td>\n",
              "      <td>0.000093</td>\n",
              "      <td>0.99991</td>\n",
              "    </tr>\n",
              "    <tr>\n",
              "      <th>818770008</th>\n",
              "      <td>Existing Customer</td>\n",
              "      <td>49</td>\n",
              "      <td>F</td>\n",
              "      <td>5</td>\n",
              "      <td>Graduate</td>\n",
              "      <td>Single</td>\n",
              "      <td>Less than $40K</td>\n",
              "      <td>Blue</td>\n",
              "      <td>44</td>\n",
              "      <td>6</td>\n",
              "      <td>1</td>\n",
              "      <td>2</td>\n",
              "      <td>8256.0</td>\n",
              "      <td>864</td>\n",
              "      <td>7392.0</td>\n",
              "      <td>1.541</td>\n",
              "      <td>1291</td>\n",
              "      <td>33</td>\n",
              "      <td>3.714</td>\n",
              "      <td>0.105</td>\n",
              "      <td>0.000057</td>\n",
              "      <td>0.99994</td>\n",
              "    </tr>\n",
              "    <tr>\n",
              "      <th>713982108</th>\n",
              "      <td>Existing Customer</td>\n",
              "      <td>51</td>\n",
              "      <td>M</td>\n",
              "      <td>3</td>\n",
              "      <td>Graduate</td>\n",
              "      <td>Married</td>\n",
              "      <td>$80K - $120K</td>\n",
              "      <td>Blue</td>\n",
              "      <td>36</td>\n",
              "      <td>4</td>\n",
              "      <td>1</td>\n",
              "      <td>0</td>\n",
              "      <td>3418.0</td>\n",
              "      <td>0</td>\n",
              "      <td>3418.0</td>\n",
              "      <td>2.594</td>\n",
              "      <td>1887</td>\n",
              "      <td>20</td>\n",
              "      <td>2.333</td>\n",
              "      <td>0.000</td>\n",
              "      <td>0.000021</td>\n",
              "      <td>0.99998</td>\n",
              "    </tr>\n",
              "    <tr>\n",
              "      <th>769911858</th>\n",
              "      <td>Existing Customer</td>\n",
              "      <td>40</td>\n",
              "      <td>F</td>\n",
              "      <td>4</td>\n",
              "      <td>High School</td>\n",
              "      <td>Unknown</td>\n",
              "      <td>Less than $40K</td>\n",
              "      <td>Blue</td>\n",
              "      <td>34</td>\n",
              "      <td>3</td>\n",
              "      <td>4</td>\n",
              "      <td>1</td>\n",
              "      <td>3313.0</td>\n",
              "      <td>2517</td>\n",
              "      <td>796.0</td>\n",
              "      <td>1.405</td>\n",
              "      <td>1171</td>\n",
              "      <td>20</td>\n",
              "      <td>2.333</td>\n",
              "      <td>0.760</td>\n",
              "      <td>0.000134</td>\n",
              "      <td>0.99987</td>\n",
              "    </tr>\n",
              "    <tr>\n",
              "      <th>709106358</th>\n",
              "      <td>Existing Customer</td>\n",
              "      <td>40</td>\n",
              "      <td>M</td>\n",
              "      <td>3</td>\n",
              "      <td>Uneducated</td>\n",
              "      <td>Married</td>\n",
              "      <td>$60K - $80K</td>\n",
              "      <td>Blue</td>\n",
              "      <td>21</td>\n",
              "      <td>5</td>\n",
              "      <td>1</td>\n",
              "      <td>0</td>\n",
              "      <td>4716.0</td>\n",
              "      <td>0</td>\n",
              "      <td>4716.0</td>\n",
              "      <td>2.175</td>\n",
              "      <td>816</td>\n",
              "      <td>28</td>\n",
              "      <td>2.500</td>\n",
              "      <td>0.000</td>\n",
              "      <td>0.000022</td>\n",
              "      <td>0.99998</td>\n",
              "    </tr>\n",
              "  </tbody>\n",
              "</table>\n",
              "</div>\n",
              "      <button class=\"colab-df-convert\" onclick=\"convertToInteractive('df-6b5ee81e-1d7f-4372-b2c0-60f0907ff300')\"\n",
              "              title=\"Convert this dataframe to an interactive table.\"\n",
              "              style=\"display:none;\">\n",
              "        \n",
              "  <svg xmlns=\"http://www.w3.org/2000/svg\" height=\"24px\"viewBox=\"0 0 24 24\"\n",
              "       width=\"24px\">\n",
              "    <path d=\"M0 0h24v24H0V0z\" fill=\"none\"/>\n",
              "    <path d=\"M18.56 5.44l.94 2.06.94-2.06 2.06-.94-2.06-.94-.94-2.06-.94 2.06-2.06.94zm-11 1L8.5 8.5l.94-2.06 2.06-.94-2.06-.94L8.5 2.5l-.94 2.06-2.06.94zm10 10l.94 2.06.94-2.06 2.06-.94-2.06-.94-.94-2.06-.94 2.06-2.06.94z\"/><path d=\"M17.41 7.96l-1.37-1.37c-.4-.4-.92-.59-1.43-.59-.52 0-1.04.2-1.43.59L10.3 9.45l-7.72 7.72c-.78.78-.78 2.05 0 2.83L4 21.41c.39.39.9.59 1.41.59.51 0 1.02-.2 1.41-.59l7.78-7.78 2.81-2.81c.8-.78.8-2.07 0-2.86zM5.41 20L4 18.59l7.72-7.72 1.47 1.35L5.41 20z\"/>\n",
              "  </svg>\n",
              "      </button>\n",
              "      \n",
              "  <style>\n",
              "    .colab-df-container {\n",
              "      display:flex;\n",
              "      flex-wrap:wrap;\n",
              "      gap: 12px;\n",
              "    }\n",
              "\n",
              "    .colab-df-convert {\n",
              "      background-color: #E8F0FE;\n",
              "      border: none;\n",
              "      border-radius: 50%;\n",
              "      cursor: pointer;\n",
              "      display: none;\n",
              "      fill: #1967D2;\n",
              "      height: 32px;\n",
              "      padding: 0 0 0 0;\n",
              "      width: 32px;\n",
              "    }\n",
              "\n",
              "    .colab-df-convert:hover {\n",
              "      background-color: #E2EBFA;\n",
              "      box-shadow: 0px 1px 2px rgba(60, 64, 67, 0.3), 0px 1px 3px 1px rgba(60, 64, 67, 0.15);\n",
              "      fill: #174EA6;\n",
              "    }\n",
              "\n",
              "    [theme=dark] .colab-df-convert {\n",
              "      background-color: #3B4455;\n",
              "      fill: #D2E3FC;\n",
              "    }\n",
              "\n",
              "    [theme=dark] .colab-df-convert:hover {\n",
              "      background-color: #434B5C;\n",
              "      box-shadow: 0px 1px 3px 1px rgba(0, 0, 0, 0.15);\n",
              "      filter: drop-shadow(0px 1px 2px rgba(0, 0, 0, 0.3));\n",
              "      fill: #FFFFFF;\n",
              "    }\n",
              "  </style>\n",
              "\n",
              "      <script>\n",
              "        const buttonEl =\n",
              "          document.querySelector('#df-6b5ee81e-1d7f-4372-b2c0-60f0907ff300 button.colab-df-convert');\n",
              "        buttonEl.style.display =\n",
              "          google.colab.kernel.accessAllowed ? 'block' : 'none';\n",
              "\n",
              "        async function convertToInteractive(key) {\n",
              "          const element = document.querySelector('#df-6b5ee81e-1d7f-4372-b2c0-60f0907ff300');\n",
              "          const dataTable =\n",
              "            await google.colab.kernel.invokeFunction('convertToInteractive',\n",
              "                                                     [key], {});\n",
              "          if (!dataTable) return;\n",
              "\n",
              "          const docLinkHtml = 'Like what you see? Visit the ' +\n",
              "            '<a target=\"_blank\" href=https://colab.research.google.com/notebooks/data_table.ipynb>data table notebook</a>'\n",
              "            + ' to learn more about interactive tables.';\n",
              "          element.innerHTML = '';\n",
              "          dataTable['output_type'] = 'display_data';\n",
              "          await google.colab.output.renderOutput(dataTable, element);\n",
              "          const docLink = document.createElement('div');\n",
              "          docLink.innerHTML = docLinkHtml;\n",
              "          element.appendChild(docLink);\n",
              "        }\n",
              "      </script>\n",
              "    </div>\n",
              "  </div>\n",
              "  "
            ]
          },
          "metadata": {},
          "execution_count": 2
        }
      ]
    },
    {
      "cell_type": "markdown",
      "source": [
        "* **Attrition_Flag**: Whether the account is closed\n",
        "\n",
        "---\n",
        "\n",
        "* **Customer_Age**: Customer's Age in Years\n",
        "* **Gender**: M=Male, F=Female\n",
        "* **Dependent_count**: # of dependents\n",
        "* **Education_Level**:  Educational Qualification of the account holder\n",
        "* **Marital_Status**:  Married, Single, Divorced, Unknown\n",
        "* **Income_Category**:  Annual Income Category of the account holder\n",
        "\n",
        "---\n",
        "\n",
        "* **Card_Category**: Product Variable-Type of Card (Blue, Silver, Gold, Platinum)\n",
        "\n",
        "---\n",
        "\n",
        "* **Months_on_book**: Period of relationship with bank\n",
        "* **Total_Relationship_Count**: Total # of products held by the customer\n",
        "* **Credit_Limit**: Credit Limit on the Credit Card\n",
        "* **Total_Revolving_Bal**: Total Revolving Balance on the Credit Card\n",
        "* **Total_Trans_Amt**: Total Transaction Amount (Last 12 months)\n",
        "* **Avg_Utilization_Ratio**: Average Card Utilization Ratio\n",
        "\n",
        "---\n",
        "\n",
        "* **Months_Inactive_12_mon**: # of months inactive in the last 12 months\n",
        "* **Contacts_Count_12_mon**: # of Contacts (Last 12 months)\n",
        "* **Avg_Open_To_Buy**: Open to Buy Credit Line (Average of last 12 months)\n",
        "* **Total_Amt_Chng_Q4_Q1**: Change in Transaction Amount (Q4 over Q1)\n",
        "* **Total_Ct_Chng_Q4_Q1**: Change in Transaction Count (Q4 over Q1)\n",
        "\n",
        "\n",
        "\n"
      ],
      "metadata": {
        "id": "lWQ7B3Ml9uiF"
      }
    },
    {
      "cell_type": "code",
      "source": [
        "data['Churned'] = data['Attrition_Flag'].apply(lambda x: int(x=='Attrited Customer'))"
      ],
      "metadata": {
        "id": "JH0Q6swW7dfQ"
      },
      "execution_count": 3,
      "outputs": []
    },
    {
      "cell_type": "markdown",
      "source": [
        "# **Exploratory Data Analysis**"
      ],
      "metadata": {
        "id": "7ptMWQhVRFMP"
      }
    },
    {
      "cell_type": "markdown",
      "source": [
        "## Demographic features"
      ],
      "metadata": {
        "id": "JfBUY5qajmGe"
      }
    },
    {
      "cell_type": "code",
      "source": [
        "data.groupby('Gender')['Churned'].mean().sort_values()\n",
        "# Female are easier to churn, \n",
        "# but we should be cautious about including this feature since it may cause gender bias in the model."
      ],
      "metadata": {
        "colab": {
          "base_uri": "https://localhost:8080/"
        },
        "id": "qW6QHP9PDDl1",
        "outputId": "2dbbe23a-76c8-4c13-d177-62fae8bd4d1e"
      },
      "execution_count": 4,
      "outputs": [
        {
          "output_type": "execute_result",
          "data": {
            "text/plain": [
              "Gender\n",
              "M    0.146152\n",
              "F    0.173572\n",
              "Name: Churned, dtype: float64"
            ]
          },
          "metadata": {},
          "execution_count": 4
        }
      ]
    },
    {
      "cell_type": "code",
      "source": [
        "data.groupby('Education_Level')['Churned'].mean().sort_values()\n",
        "# People with higher education like Doctor and Post-Graduate are easier to churn"
      ],
      "metadata": {
        "colab": {
          "base_uri": "https://localhost:8080/"
        },
        "id": "oanALylSFNQg",
        "outputId": "8b07bfb3-f42d-4428-e694-d52231aad71c"
      },
      "execution_count": 5,
      "outputs": [
        {
          "output_type": "execute_result",
          "data": {
            "text/plain": [
              "Education_Level\n",
              "High School      0.152012\n",
              "College          0.152024\n",
              "Graduate         0.155691\n",
              "Uneducated       0.159381\n",
              "Unknown          0.168532\n",
              "Post-Graduate    0.178295\n",
              "Doctorate        0.210643\n",
              "Name: Churned, dtype: float64"
            ]
          },
          "metadata": {},
          "execution_count": 5
        }
      ]
    },
    {
      "cell_type": "code",
      "source": [
        "data.groupby(['Marital_Status'])['Churned'].mean().sort_values()\n",
        "# Married < Divorced < Single < Unknown"
      ],
      "metadata": {
        "colab": {
          "base_uri": "https://localhost:8080/"
        },
        "id": "aM4f_C_dGfv-",
        "outputId": "af4e27bd-03fd-432c-ed5c-86936ba52c07"
      },
      "execution_count": 6,
      "outputs": [
        {
          "output_type": "execute_result",
          "data": {
            "text/plain": [
              "Marital_Status\n",
              "Married     0.151269\n",
              "Divorced    0.161765\n",
              "Single      0.169414\n",
              "Unknown     0.172230\n",
              "Name: Churned, dtype: float64"
            ]
          },
          "metadata": {},
          "execution_count": 6
        }
      ]
    },
    {
      "cell_type": "code",
      "source": [
        "data.groupby(['Income_Category'])['Churned'].mean().sort_values()\n",
        "# Top and bottom income categories are easier to churn"
      ],
      "metadata": {
        "colab": {
          "base_uri": "https://localhost:8080/"
        },
        "id": "wdAE1jdgHLit",
        "outputId": "a2fb58d2-639d-48c3-9ba3-4846e32820f6"
      },
      "execution_count": 7,
      "outputs": [
        {
          "output_type": "execute_result",
          "data": {
            "text/plain": [
              "Income_Category\n",
              "$60K - $80K       0.134807\n",
              "$40K - $60K       0.151397\n",
              "$80K - $120K      0.157655\n",
              "Unknown           0.168165\n",
              "Less than $40K    0.171862\n",
              "$120K +           0.173315\n",
              "Name: Churned, dtype: float64"
            ]
          },
          "metadata": {},
          "execution_count": 7
        }
      ]
    },
    {
      "cell_type": "code",
      "source": [
        "data.groupby(['Churned']).boxplot(column=['Customer_Age'], figsize=(10,5))\n",
        "plt.show()\n",
        "# Age does not play any difference in customer churn"
      ],
      "metadata": {
        "colab": {
          "base_uri": "https://localhost:8080/",
          "height": 335
        },
        "id": "5zGw6z4ZDJ9K",
        "outputId": "ee4c7fb1-d52a-4d1d-83d1-3c5fc7a9544d"
      },
      "execution_count": 8,
      "outputs": [
        {
          "output_type": "display_data",
          "data": {
            "text/plain": [
              "<Figure size 720x360 with 2 Axes>"
            ],
            "image/png": "[encoded data removed]"
          },
          "metadata": {
            "needs_background": "light"
          }
        }
      ]
    },
    {
      "cell_type": "markdown",
      "source": [
        "## Product type"
      ],
      "metadata": {
        "id": "kcs5UJf6jtP1"
      }
    },
    {
      "cell_type": "code",
      "source": [
        "data.groupby('Card_Category')['Churned'].mean().sort_values()\n",
        "# People with high-class card like Gold and Platinum are easier to churn"
      ],
      "metadata": {
        "colab": {
          "base_uri": "https://localhost:8080/"
        },
        "id": "hgNLPGor9lwv",
        "outputId": "bbf45c26-dad6-4422-c731-d4faad5d8c7e"
      },
      "execution_count": 9,
      "outputs": [
        {
          "output_type": "execute_result",
          "data": {
            "text/plain": [
              "Card_Category\n",
              "Silver      0.147748\n",
              "Blue        0.160979\n",
              "Gold        0.181034\n",
              "Platinum    0.250000\n",
              "Name: Churned, dtype: float64"
            ]
          },
          "metadata": {},
          "execution_count": 9
        }
      ]
    },
    {
      "cell_type": "markdown",
      "source": [
        "## Customer Behaviors"
      ],
      "metadata": {
        "id": "R4g4aDzmjySX"
      }
    },
    {
      "cell_type": "code",
      "source": [
        "print(data.groupby(['Churned'])['Months_on_book'].mean())\n",
        "data.groupby(['Churned']).boxplot(column=['Months_on_book'], figsize=(10,5))\n",
        "plt.show()\n",
        "# Surprisingly, new and old customer are equally likely to churn"
      ],
      "metadata": {
        "colab": {
          "base_uri": "https://localhost:8080/",
          "height": 407
        },
        "id": "pYC-ZRGIIzsN",
        "outputId": "4eb59b11-d14f-4cf0-958e-4aa8e619ea3e"
      },
      "execution_count": 10,
      "outputs": [
        {
          "output_type": "stream",
          "name": "stdout",
          "text": [
            "Churned\n",
            "0    35.880588\n",
            "1    36.178242\n",
            "Name: Months_on_book, dtype: float64\n"
          ]
        },
        {
          "output_type": "display_data",
          "data": {
            "text/plain": [
              "<Figure size 720x360 with 2 Axes>"
            ],
            "image/png": "[encoded data removed]"
          },
          "metadata": {
            "needs_background": "light"
          }
        }
      ]
    },
    {
      "cell_type": "code",
      "source": [
        "print(data.groupby(['Churned'])['Total_Relationship_Count'].mean())\n",
        "data.groupby(['Churned']).boxplot(column=['Total_Relationship_Count'], figsize=(10,5))\n",
        "plt.show()\n",
        "# Churned customers have less contacts"
      ],
      "metadata": {
        "colab": {
          "base_uri": "https://localhost:8080/",
          "height": 407
        },
        "id": "Dnmlo_dPJm0b",
        "outputId": "49a5e054-0a97-4b37-b90a-dab9668cf3aa"
      },
      "execution_count": 11,
      "outputs": [
        {
          "output_type": "stream",
          "name": "stdout",
          "text": [
            "Churned\n",
            "0    3.914588\n",
            "1    3.279656\n",
            "Name: Total_Relationship_Count, dtype: float64\n"
          ]
        },
        {
          "output_type": "display_data",
          "data": {
            "text/plain": [
              "<Figure size 720x360 with 2 Axes>"
            ],
            "image/png": "[encoded data removed]"
          },
          "metadata": {
            "needs_background": "light"
          }
        }
      ]
    },
    {
      "cell_type": "code",
      "source": [
        "data['ln_Credit_Limit'] = data['Credit_Limit'].apply(np.log)\n",
        "print(data.groupby(['Churned'])['ln_Credit_Limit'].mean())\n",
        "data.groupby(['Churned']).boxplot(column=['ln_Credit_Limit'], figsize=(10,5))\n",
        "plt.show()"
      ],
      "metadata": {
        "colab": {
          "base_uri": "https://localhost:8080/",
          "height": 407
        },
        "id": "ipg4S0dAKBPw",
        "outputId": "478c242c-4b38-4a07-a322-6c4038e577ab"
      },
      "execution_count": 12,
      "outputs": [
        {
          "output_type": "stream",
          "name": "stdout",
          "text": [
            "Churned\n",
            "0    8.621967\n",
            "1    8.506475\n",
            "Name: ln_Credit_Limit, dtype: float64\n"
          ]
        },
        {
          "output_type": "display_data",
          "data": {
            "text/plain": [
              "<Figure size 720x360 with 2 Axes>"
            ],
            "image/png": "[encoded data removed]"
          },
          "metadata": {
            "needs_background": "light"
          }
        }
      ]
    },
    {
      "cell_type": "code",
      "source": [
        "data['ln_Total_Revolving_Bal'] = data['Total_Revolving_Bal'].apply(lambda x: np.log(x+1))\n",
        "print(data.groupby(['Churned'])['ln_Total_Revolving_Bal'].mean())\n",
        "data.groupby(['Churned']).boxplot(column=['ln_Total_Revolving_Bal'], figsize=(10,5))\n",
        "plt.show()"
      ],
      "metadata": {
        "colab": {
          "base_uri": "https://localhost:8080/",
          "height": 407
        },
        "id": "1vMsxvvfKEnX",
        "outputId": "26f78861-3fac-453c-80e6-edb0e4603b97"
      },
      "execution_count": 13,
      "outputs": [
        {
          "output_type": "stream",
          "name": "stdout",
          "text": [
            "Churned\n",
            "0    5.929794\n",
            "1    3.199864\n",
            "Name: ln_Total_Revolving_Bal, dtype: float64\n"
          ]
        },
        {
          "output_type": "display_data",
          "data": {
            "text/plain": [
              "<Figure size 720x360 with 2 Axes>"
            ],
            "image/png": "[encoded data removed]"
          },
          "metadata": {
            "needs_background": "light"
          }
        }
      ]
    },
    {
      "cell_type": "code",
      "source": [
        "data['ln_Total_Trans_Amt'] = data['Total_Trans_Amt'].apply(np.log)\n",
        "print(data.groupby(['Churned'])['ln_Total_Trans_Amt'].mean())\n",
        "data.groupby(['Churned']).boxplot(column=['ln_Total_Trans_Amt'], figsize=(10,5))\n",
        "plt.show()"
      ],
      "metadata": {
        "colab": {
          "base_uri": "https://localhost:8080/",
          "height": 407
        },
        "id": "7oe7YclwKFkZ",
        "outputId": "6996e8a1-4f74-4548-8819-e15413cb6b53"
      },
      "execution_count": 14,
      "outputs": [
        {
          "output_type": "stream",
          "name": "stdout",
          "text": [
            "Churned\n",
            "0    8.229806\n",
            "1    7.825284\n",
            "Name: ln_Total_Trans_Amt, dtype: float64\n"
          ]
        },
        {
          "output_type": "display_data",
          "data": {
            "text/plain": [
              "<Figure size 720x360 with 2 Axes>"
            ],
            "image/png": "[encoded data removed]"
          },
          "metadata": {
            "needs_background": "light"
          }
        }
      ]
    },
    {
      "cell_type": "code",
      "source": [
        "print(data.groupby(['Churned'])['Avg_Utilization_Ratio'].mean())\n",
        "data.groupby(['Churned']).boxplot(column=['Avg_Utilization_Ratio'], figsize=(10,5))\n",
        "plt.show()"
      ],
      "metadata": {
        "colab": {
          "base_uri": "https://localhost:8080/",
          "height": 407
        },
        "id": "BtUPjBX5KJoU",
        "outputId": "67c0b74b-4b05-4a8c-fca2-0ff80f60bfae"
      },
      "execution_count": 15,
      "outputs": [
        {
          "output_type": "stream",
          "name": "stdout",
          "text": [
            "Churned\n",
            "0    0.296412\n",
            "1    0.162475\n",
            "Name: Avg_Utilization_Ratio, dtype: float64\n"
          ]
        },
        {
          "output_type": "display_data",
          "data": {
            "text/plain": [
              "<Figure size 720x360 with 2 Axes>"
            ],
            "image/png": "[encoded data removed]"
          },
          "metadata": {
            "needs_background": "light"
          }
        }
      ]
    },
    {
      "cell_type": "code",
      "source": [
        "data.groupby(['Churned']).boxplot(column=['Months_Inactive_12_mon'], figsize=(10,5))\n",
        "plt.show()"
      ],
      "metadata": {
        "colab": {
          "base_uri": "https://localhost:8080/",
          "height": 335
        },
        "id": "a4n09hByNk9p",
        "outputId": "a772217c-305f-4b5c-d0dd-89cf4c953f6f"
      },
      "execution_count": 16,
      "outputs": [
        {
          "output_type": "display_data",
          "data": {
            "text/plain": [
              "<Figure size 720x360 with 2 Axes>"
            ],
            "image/png": "[encoded data removed]"
          },
          "metadata": {
            "needs_background": "light"
          }
        }
      ]
    },
    {
      "cell_type": "code",
      "source": [
        "data.groupby(['Churned']).boxplot(column=['Contacts_Count_12_mon'], figsize=(10,5))\n",
        "plt.show()\n",
        "# Weird though, Churned customers have more contacts in the last 12 months"
      ],
      "metadata": {
        "colab": {
          "base_uri": "https://localhost:8080/",
          "height": 335
        },
        "id": "K7O5fZoXNufW",
        "outputId": "18206803-c1e2-4e9c-f0d6-eb591da86876"
      },
      "execution_count": 17,
      "outputs": [
        {
          "output_type": "display_data",
          "data": {
            "text/plain": [
              "<Figure size 720x360 with 2 Axes>"
            ],
            "image/png": "[encoded data removed]"
          },
          "metadata": {
            "needs_background": "light"
          }
        }
      ]
    },
    {
      "cell_type": "code",
      "source": [
        "data['ln_Avg_Open_To_Buy'] = data['Avg_Open_To_Buy'].apply(lambda x: np.log(x+1))\n",
        "print(data.groupby(['Churned'])['ln_Avg_Open_To_Buy'].mean())\n",
        "data.groupby(['Churned']).boxplot(column=['ln_Avg_Open_To_Buy'], figsize=(10,5))\n",
        "plt.show()"
      ],
      "metadata": {
        "colab": {
          "base_uri": "https://localhost:8080/",
          "height": 407
        },
        "id": "IifyZowkNwyv",
        "outputId": "3e2036f6-c8c6-46b4-b905-caf533300acf"
      },
      "execution_count": 18,
      "outputs": [
        {
          "output_type": "stream",
          "name": "stdout",
          "text": [
            "Churned\n",
            "0    8.154636\n",
            "1    8.216272\n",
            "Name: ln_Avg_Open_To_Buy, dtype: float64\n"
          ]
        },
        {
          "output_type": "display_data",
          "data": {
            "text/plain": [
              "<Figure size 720x360 with 2 Axes>"
            ],
            "image/png": "[encoded data removed]"
          },
          "metadata": {
            "needs_background": "light"
          }
        }
      ]
    },
    {
      "cell_type": "code",
      "source": [
        "data.groupby(['Churned']).boxplot(column=['Total_Amt_Chng_Q4_Q1'], figsize=(10,5))\n",
        "plt.show()"
      ],
      "metadata": {
        "colab": {
          "base_uri": "https://localhost:8080/",
          "height": 335
        },
        "id": "_2ZFsBT9N1CB",
        "outputId": "829eaf04-3d4f-440e-fcb4-647a99200bc7"
      },
      "execution_count": 19,
      "outputs": [
        {
          "output_type": "display_data",
          "data": {
            "text/plain": [
              "<Figure size 720x360 with 2 Axes>"
            ],
            "image/png": "[encoded data removed]"
          },
          "metadata": {
            "needs_background": "light"
          }
        }
      ]
    },
    {
      "cell_type": "code",
      "source": [
        "data.groupby(['Churned']).boxplot(column=['Total_Ct_Chng_Q4_Q1'], figsize=(10,5))\n",
        "plt.show()"
      ],
      "metadata": {
        "colab": {
          "base_uri": "https://localhost:8080/",
          "height": 335
        },
        "id": "cg5gQhL0N4Ie",
        "outputId": "b20692a5-cd83-4ca4-c7d4-6242fde55ba5"
      },
      "execution_count": 20,
      "outputs": [
        {
          "output_type": "display_data",
          "data": {
            "text/plain": [
              "<Figure size 720x360 with 2 Axes>"
            ],
            "image/png": "[encoded data removed]"
          },
          "metadata": {
            "needs_background": "light"
          }
        }
      ]
    },
    {
      "cell_type": "code",
      "source": [
        "corr_df = data[['ln_Credit_Limit','ln_Total_Revolving_Bal',\n",
        "                'ln_Total_Trans_Amt','Avg_Utilization_Ratio',\n",
        "                'Total_Ct_Chng_Q4_Q1','Total_Amt_Chng_Q4_Q1',\n",
        "                'Total_Relationship_Count', 'Months_on_book',\n",
        "                'Months_Inactive_12_mon', 'Contacts_Count_12_mon']].corr()\n",
        "plt.figure(figsize=(16, 10))\n",
        "heatmap = sns.heatmap(corr_df, vmin=-1, vmax=1, annot=True,cmap=\"coolwarm\")\n",
        "heatmap.set_title('Correlation Heatmap', fontdict={'fontsize':15}, pad=12)\n",
        "plt.show()\n",
        "# No strongly correlated numeric features"
      ],
      "metadata": {
        "colab": {
          "base_uri": "https://localhost:8080/",
          "height": 731
        },
        "id": "eMxY--rfs-jD",
        "outputId": "07553d71-6273-440a-abda-d6a851fc4a4e"
      },
      "execution_count": 21,
      "outputs": [
        {
          "output_type": "display_data",
          "data": {
            "text/plain": [
              "<Figure size 1152x720 with 2 Axes>"
            ],
            "image/png": "[encoded data removed]"
          },
          "metadata": {
            "needs_background": "light"
          }
        }
      ]
    },
    {
      "cell_type": "markdown",
      "source": [
        "# **Feature Engineering**"
      ],
      "metadata": {
        "id": "H5OhwtEHRMDu"
      }
    },
    {
      "cell_type": "code",
      "source": [
        "data['Male'] = data['Gender'].apply(lambda x: int(x=='M'))\n",
        "data['PostGraduate'] = data['Education_Level'].apply(lambda x: x=='Post-Graduate')\n",
        "data['Doctorate'] = data['Education_Level'].apply(lambda x: int(x=='Doctorate'))"
      ],
      "metadata": {
        "id": "luDsOrVeru1I"
      },
      "execution_count": 22,
      "outputs": []
    },
    {
      "cell_type": "code",
      "source": [
        "data = pd.get_dummies(data,\n",
        "                      columns=['Marital_Status','Income_Category','Card_Category'],\n",
        "                      drop_first=True)"
      ],
      "metadata": {
        "id": "ce4kkjHQyq6I"
      },
      "execution_count": 23,
      "outputs": []
    },
    {
      "cell_type": "code",
      "source": [
        "features = [\n",
        "    'PostGraduate',\n",
        "    'Doctorate',\n",
        "    'Dependent_count',\n",
        "    'Marital_Status_Married',\n",
        "    'Marital_Status_Single',\n",
        "    'Marital_Status_Unknown',\n",
        "    'Income_Category_$40K - $60K',\n",
        "    'Income_Category_$60K - $80K',\n",
        "    'Income_Category_$80K - $120K',\n",
        "    'Income_Category_Less than $40K',\n",
        "    'Income_Category_Unknown',\n",
        "    'Card_Category_Gold',\n",
        "    'Card_Category_Platinum',\n",
        "    'Card_Category_Silver',\n",
        "    'Total_Relationship_Count',\n",
        "    'Months_Inactive_12_mon',\n",
        "    'Contacts_Count_12_mon',\n",
        "    'ln_Total_Trans_Amt',\n",
        "    'ln_Credit_Limit',\n",
        "    'ln_Total_Revolving_Bal',\n",
        "    'Avg_Utilization_Ratio',\n",
        "    'Total_Amt_Chng_Q4_Q1',\n",
        "    'Total_Ct_Chng_Q4_Q1'\n",
        "]\n",
        "X=data[features]\n",
        "y=data['Churned']"
      ],
      "metadata": {
        "id": "0cebQIM7oryP"
      },
      "execution_count": 24,
      "outputs": []
    },
    {
      "cell_type": "markdown",
      "source": [
        "# **Modeling**"
      ],
      "metadata": {
        "id": "etTqfvHl78oe"
      }
    },
    {
      "cell_type": "code",
      "source": [
        "from sklearn.model_selection import train_test_split\n",
        "\n",
        "X_train, X_test, y_train, y_test = train_test_split(X, y, test_size=0.2, random_state=42)"
      ],
      "metadata": {
        "id": "UOTxpCIo8PjR"
      },
      "execution_count": 25,
      "outputs": []
    },
    {
      "cell_type": "markdown",
      "source": [
        "## Logistic Regression"
      ],
      "metadata": {
        "id": "kRTHQ25i_Wag"
      }
    },
    {
      "cell_type": "code",
      "source": [
        "from sklearn.linear_model import LogisticRegressionCV\n",
        "from sklearn.metrics import classification_report, roc_auc_score"
      ],
      "metadata": {
        "id": "FENWvLweBLBo"
      },
      "execution_count": 26,
      "outputs": []
    },
    {
      "cell_type": "code",
      "source": [
        "clf_logi = LogisticRegressionCV(cv=5, random_state=0, max_iter=500)\n",
        "clf_logi.fit(X_train, y_train)\n",
        "y_pred = clf_logi.predict_proba(X_test)[:,1]"
      ],
      "metadata": {
        "id": "wmxLQ-yt-8A8"
      },
      "execution_count": 27,
      "outputs": []
    },
    {
      "cell_type": "code",
      "source": [
        "print(roc_auc_score(y_test,y_pred))\n",
        "print(classification_report(y_test, y_pred>0.5))"
      ],
      "metadata": {
        "colab": {
          "base_uri": "https://localhost:8080/"
        },
        "id": "SHCLmkA9AJt8",
        "outputId": "6cca47a2-59dc-41ae-9ac0-189c0acd9619"
      },
      "execution_count": 28,
      "outputs": [
        {
          "output_type": "stream",
          "name": "stdout",
          "text": [
            "0.8507216873390175\n",
            "              precision    recall  f1-score   support\n",
            "\n",
            "           0       0.90      0.97      0.93      1699\n",
            "           1       0.75      0.43      0.54       327\n",
            "\n",
            "    accuracy                           0.88      2026\n",
            "   macro avg       0.82      0.70      0.74      2026\n",
            "weighted avg       0.87      0.88      0.87      2026\n",
            "\n"
          ]
        }
      ]
    },
    {
      "cell_type": "markdown",
      "source": [
        "## Gaussian Naive Bayes classifier"
      ],
      "metadata": {
        "id": "f_ayNrmAcH8V"
      }
    },
    {
      "cell_type": "code",
      "source": [
        "from sklearn.naive_bayes import GaussianNB\n",
        "clf_gnb = GaussianNB()\n",
        "clf_gnb.fit(X_train, y_train)\n",
        "y_pred = clf_gnb.predict_proba(X_test)[:,1]"
      ],
      "metadata": {
        "id": "k_5KgqaLcHSm"
      },
      "execution_count": 29,
      "outputs": []
    },
    {
      "cell_type": "code",
      "source": [
        "print(roc_auc_score(y_test,y_pred))\n",
        "print(classification_report(y_test, y_pred>0.5))"
      ],
      "metadata": {
        "colab": {
          "base_uri": "https://localhost:8080/"
        },
        "id": "Ymjg820fcYk8",
        "outputId": "621195c5-c838-4b3e-8227-a0022f2683c7"
      },
      "execution_count": 30,
      "outputs": [
        {
          "output_type": "stream",
          "name": "stdout",
          "text": [
            "0.8034173726944975\n",
            "              precision    recall  f1-score   support\n",
            "\n",
            "           0       0.89      0.94      0.91      1699\n",
            "           1       0.56      0.40      0.47       327\n",
            "\n",
            "    accuracy                           0.85      2026\n",
            "   macro avg       0.72      0.67      0.69      2026\n",
            "weighted avg       0.84      0.85      0.84      2026\n",
            "\n"
          ]
        }
      ]
    },
    {
      "cell_type": "markdown",
      "source": [
        "## Random Forest"
      ],
      "metadata": {
        "id": "mlrvOZSJ_Rwp"
      }
    },
    {
      "cell_type": "code",
      "source": [
        "from sklearn.ensemble import RandomForestClassifier"
      ],
      "metadata": {
        "id": "cNYeCnZ8BMSZ"
      },
      "execution_count": 31,
      "outputs": []
    },
    {
      "cell_type": "code",
      "source": [
        "clf_rf = RandomForestClassifier(random_state=0)\n",
        "clf_rf.fit(X_train, y_train)\n",
        "y_pred = clf_rf.predict_proba(X_test)[:,1]"
      ],
      "metadata": {
        "id": "Y6rggtDajbg_"
      },
      "execution_count": 32,
      "outputs": []
    },
    {
      "cell_type": "code",
      "source": [
        "print(roc_auc_score(y_test,y_pred))\n",
        "print(classification_report(y_test, y_pred>0.5))"
      ],
      "metadata": {
        "colab": {
          "base_uri": "https://localhost:8080/"
        },
        "id": "8FzM8Ppd9BTj",
        "outputId": "41859bd2-2d5e-4f6d-b25f-e2ea8e90fc7a"
      },
      "execution_count": 33,
      "outputs": [
        {
          "output_type": "stream",
          "name": "stdout",
          "text": [
            "0.9727740548946763\n",
            "              precision    recall  f1-score   support\n",
            "\n",
            "           0       0.94      0.98      0.96      1699\n",
            "           1       0.89      0.66      0.76       327\n",
            "\n",
            "    accuracy                           0.93      2026\n",
            "   macro avg       0.92      0.82      0.86      2026\n",
            "weighted avg       0.93      0.93      0.93      2026\n",
            "\n"
          ]
        }
      ]
    },
    {
      "cell_type": "markdown",
      "source": [
        "## XGBoost"
      ],
      "metadata": {
        "id": "2zPfI8B9A4v5"
      }
    },
    {
      "cell_type": "code",
      "source": [
        "from xgboost import XGBClassifier"
      ],
      "metadata": {
        "id": "McKw8YB8AP1J"
      },
      "execution_count": 34,
      "outputs": []
    },
    {
      "cell_type": "code",
      "source": [
        "clf_xgb = XGBClassifier(random_state=0)\n",
        "clf_xgb.fit(X_train, y_train)\n",
        "y_pred = clf_xgb.predict_proba(X_test)[:,1]"
      ],
      "metadata": {
        "id": "KA8TkWp5BDT4"
      },
      "execution_count": 35,
      "outputs": []
    },
    {
      "cell_type": "code",
      "source": [
        "print(roc_auc_score(y_test,y_pred))\n",
        "print(classification_report(y_test, y_pred>0.5))"
      ],
      "metadata": {
        "colab": {
          "base_uri": "https://localhost:8080/"
        },
        "id": "yDUAKfhJBbR5",
        "outputId": "ef7157b3-68c6-4aa9-a06d-351146dd10b7"
      },
      "execution_count": 36,
      "outputs": [
        {
          "output_type": "stream",
          "name": "stdout",
          "text": [
            "0.977424208879841\n",
            "              precision    recall  f1-score   support\n",
            "\n",
            "           0       0.95      0.98      0.97      1699\n",
            "           1       0.90      0.74      0.81       327\n",
            "\n",
            "    accuracy                           0.95      2026\n",
            "   macro avg       0.93      0.86      0.89      2026\n",
            "weighted avg       0.94      0.95      0.94      2026\n",
            "\n"
          ]
        }
      ]
    },
    {
      "cell_type": "markdown",
      "source": [
        "XGBoost and Random Forest seems to the better options comparing to Logistic Regression and Naive Bayes"
      ],
      "metadata": {
        "id": "A6SfYPWYNfri"
      }
    },
    {
      "cell_type": "markdown",
      "source": [
        "## Model selection"
      ],
      "metadata": {
        "id": "3RLN-66FEFyr"
      }
    },
    {
      "cell_type": "code",
      "source": [
        "from sklearn.model_selection import cross_val_score"
      ],
      "metadata": {
        "id": "efxSgzOLCr4O"
      },
      "execution_count": 37,
      "outputs": []
    },
    {
      "cell_type": "code",
      "source": [
        "scores_rf = cross_val_score(clf_rf, X_train, y_train, cv=5,scoring='roc_auc')\n",
        "print(scores_rf.mean())\n",
        "print(scores_rf.std())"
      ],
      "metadata": {
        "colab": {
          "base_uri": "https://localhost:8080/"
        },
        "id": "hkowIJoUCwza",
        "outputId": "0be902e8-3260-45d0-b6f6-e5bf1101c84a"
      },
      "execution_count": 38,
      "outputs": [
        {
          "output_type": "stream",
          "name": "stdout",
          "text": [
            "0.9710427917238789\n",
            "0.004229005106928051\n"
          ]
        }
      ]
    },
    {
      "cell_type": "code",
      "source": [
        "scores_xgb = cross_val_score(clf_xgb, X_train, y_train, cv=5,scoring='roc_auc')\n",
        "print(scores_xgb.mean())\n",
        "print(scores_xgb.std())"
      ],
      "metadata": {
        "colab": {
          "base_uri": "https://localhost:8080/"
        },
        "id": "Ot-F4JEXD8zo",
        "outputId": "0714c2ec-0814-4695-f426-a99fe45a7bec"
      },
      "execution_count": 39,
      "outputs": [
        {
          "output_type": "stream",
          "name": "stdout",
          "text": [
            "0.9799162925018534\n",
            "0.003942920373096226\n"
          ]
        }
      ]
    },
    {
      "cell_type": "markdown",
      "source": [
        "We will move on with XGBoost because it is more accurate (higher mean) and robust (lower standard deviation)."
      ],
      "metadata": {
        "id": "U7xRptuENxuq"
      }
    },
    {
      "cell_type": "markdown",
      "source": [
        "# Feature Selection using permutation importance"
      ],
      "metadata": {
        "id": "i9n2RWRxCQVg"
      }
    },
    {
      "cell_type": "code",
      "source": [
        "from sklearn.inspection import permutation_importance"
      ],
      "metadata": {
        "id": "jhXzsHPgCScO"
      },
      "execution_count": 40,
      "outputs": []
    },
    {
      "cell_type": "code",
      "source": [
        "imps = permutation_importance(clf_xgb, X_test, y_test,\n",
        "                              scoring=\"roc_auc\",\n",
        "                              random_state = 42)\n",
        "pd.DataFrame([X_test.columns.to_list(),\n",
        "              imps.importances_mean],\n",
        "              index = [\"Feature\",\"Score\"])\\\n",
        "              .transpose()\\\n",
        "              .sort_values(by = 'Score',ascending = False)\\\n",
        "              .reset_index(drop = True)"
      ],
      "metadata": {
        "colab": {
          "base_uri": "https://localhost:8080/",
          "height": 770
        },
        "id": "uzMuo-95Evi8",
        "outputId": "536db916-57ba-42d0-a62a-d98093279392"
      },
      "execution_count": 41,
      "outputs": [
        {
          "output_type": "execute_result",
          "data": {
            "text/plain": [
              "                           Feature     Score\n",
              "0               ln_Total_Trans_Amt  0.193973\n",
              "1           ln_Total_Revolving_Bal  0.033602\n",
              "2         Total_Relationship_Count  0.019339\n",
              "3             Total_Amt_Chng_Q4_Q1   0.01618\n",
              "4              Total_Ct_Chng_Q4_Q1  0.014704\n",
              "5           Months_Inactive_12_mon  0.005264\n",
              "6            Contacts_Count_12_mon  0.002718\n",
              "7                  ln_Credit_Limit  0.000832\n",
              "8            Avg_Utilization_Ratio  0.000764\n",
              "9                  Dependent_count  0.000742\n",
              "10     Income_Category_$60K - $80K  0.000017\n",
              "11          Marital_Status_Married  0.000014\n",
              "12            Card_Category_Silver       0.0\n",
              "13                    PostGraduate       0.0\n",
              "14          Card_Category_Platinum       0.0\n",
              "15                       Doctorate       0.0\n",
              "16         Income_Category_Unknown       0.0\n",
              "17  Income_Category_Less than $40K       0.0\n",
              "18    Income_Category_$80K - $120K       0.0\n",
              "19     Income_Category_$40K - $60K       0.0\n",
              "20          Marital_Status_Unknown       0.0\n",
              "21           Marital_Status_Single       0.0\n",
              "22              Card_Category_Gold       0.0"
            ],
            "text/html": [
              "\n",
              "  <div id=\"df-691a0aa8-fc4c-41c2-bc59-b7f82163d9f5\">\n",
              "    <div class=\"colab-df-container\">\n",
              "      <div>\n",
              "<style scoped>\n",
              "    .dataframe tbody tr th:only-of-type {\n",
              "        vertical-align: middle;\n",
              "    }\n",
              "\n",
              "    .dataframe tbody tr th {\n",
              "        vertical-align: top;\n",
              "    }\n",
              "\n",
              "    .dataframe thead th {\n",
              "        text-align: right;\n",
              "    }\n",
              "</style>\n",
              "<table border=\"1\" class=\"dataframe\">\n",
              "  <thead>\n",
              "    <tr style=\"text-align: right;\">\n",
              "      <th></th>\n",
              "      <th>Feature</th>\n",
              "      <th>Score</th>\n",
              "    </tr>\n",
              "  </thead>\n",
              "  <tbody>\n",
              "    <tr>\n",
              "      <th>0</th>\n",
              "      <td>ln_Total_Trans_Amt</td>\n",
              "      <td>0.193973</td>\n",
              "    </tr>\n",
              "    <tr>\n",
              "      <th>1</th>\n",
              "      <td>ln_Total_Revolving_Bal</td>\n",
              "      <td>0.033602</td>\n",
              "    </tr>\n",
              "    <tr>\n",
              "      <th>2</th>\n",
              "      <td>Total_Relationship_Count</td>\n",
              "      <td>0.019339</td>\n",
              "    </tr>\n",
              "    <tr>\n",
              "      <th>3</th>\n",
              "      <td>Total_Amt_Chng_Q4_Q1</td>\n",
              "      <td>0.01618</td>\n",
              "    </tr>\n",
              "    <tr>\n",
              "      <th>4</th>\n",
              "      <td>Total_Ct_Chng_Q4_Q1</td>\n",
              "      <td>0.014704</td>\n",
              "    </tr>\n",
              "    <tr>\n",
              "      <th>5</th>\n",
              "      <td>Months_Inactive_12_mon</td>\n",
              "      <td>0.005264</td>\n",
              "    </tr>\n",
              "    <tr>\n",
              "      <th>6</th>\n",
              "      <td>Contacts_Count_12_mon</td>\n",
              "      <td>0.002718</td>\n",
              "    </tr>\n",
              "    <tr>\n",
              "      <th>7</th>\n",
              "      <td>ln_Credit_Limit</td>\n",
              "      <td>0.000832</td>\n",
              "    </tr>\n",
              "    <tr>\n",
              "      <th>8</th>\n",
              "      <td>Avg_Utilization_Ratio</td>\n",
              "      <td>0.000764</td>\n",
              "    </tr>\n",
              "    <tr>\n",
              "      <th>9</th>\n",
              "      <td>Dependent_count</td>\n",
              "      <td>0.000742</td>\n",
              "    </tr>\n",
              "    <tr>\n",
              "      <th>10</th>\n",
              "      <td>Income_Category_$60K - $80K</td>\n",
              "      <td>0.000017</td>\n",
              "    </tr>\n",
              "    <tr>\n",
              "      <th>11</th>\n",
              "      <td>Marital_Status_Married</td>\n",
              "      <td>0.000014</td>\n",
              "    </tr>\n",
              "    <tr>\n",
              "      <th>12</th>\n",
              "      <td>Card_Category_Silver</td>\n",
              "      <td>0.0</td>\n",
              "    </tr>\n",
              "    <tr>\n",
              "      <th>13</th>\n",
              "      <td>PostGraduate</td>\n",
              "      <td>0.0</td>\n",
              "    </tr>\n",
              "    <tr>\n",
              "      <th>14</th>\n",
              "      <td>Card_Category_Platinum</td>\n",
              "      <td>0.0</td>\n",
              "    </tr>\n",
              "    <tr>\n",
              "      <th>15</th>\n",
              "      <td>Doctorate</td>\n",
              "      <td>0.0</td>\n",
              "    </tr>\n",
              "    <tr>\n",
              "      <th>16</th>\n",
              "      <td>Income_Category_Unknown</td>\n",
              "      <td>0.0</td>\n",
              "    </tr>\n",
              "    <tr>\n",
              "      <th>17</th>\n",
              "      <td>Income_Category_Less than $40K</td>\n",
              "      <td>0.0</td>\n",
              "    </tr>\n",
              "    <tr>\n",
              "      <th>18</th>\n",
              "      <td>Income_Category_$80K - $120K</td>\n",
              "      <td>0.0</td>\n",
              "    </tr>\n",
              "    <tr>\n",
              "      <th>19</th>\n",
              "      <td>Income_Category_$40K - $60K</td>\n",
              "      <td>0.0</td>\n",
              "    </tr>\n",
              "    <tr>\n",
              "      <th>20</th>\n",
              "      <td>Marital_Status_Unknown</td>\n",
              "      <td>0.0</td>\n",
              "    </tr>\n",
              "    <tr>\n",
              "      <th>21</th>\n",
              "      <td>Marital_Status_Single</td>\n",
              "      <td>0.0</td>\n",
              "    </tr>\n",
              "    <tr>\n",
              "      <th>22</th>\n",
              "      <td>Card_Category_Gold</td>\n",
              "      <td>0.0</td>\n",
              "    </tr>\n",
              "  </tbody>\n",
              "</table>\n",
              "</div>\n",
              "      <button class=\"colab-df-convert\" onclick=\"convertToInteractive('df-691a0aa8-fc4c-41c2-bc59-b7f82163d9f5')\"\n",
              "              title=\"Convert this dataframe to an interactive table.\"\n",
              "              style=\"display:none;\">\n",
              "        \n",
              "  <svg xmlns=\"http://www.w3.org/2000/svg\" height=\"24px\"viewBox=\"0 0 24 24\"\n",
              "       width=\"24px\">\n",
              "    <path d=\"M0 0h24v24H0V0z\" fill=\"none\"/>\n",
              "    <path d=\"M18.56 5.44l.94 2.06.94-2.06 2.06-.94-2.06-.94-.94-2.06-.94 2.06-2.06.94zm-11 1L8.5 8.5l.94-2.06 2.06-.94-2.06-.94L8.5 2.5l-.94 2.06-2.06.94zm10 10l.94 2.06.94-2.06 2.06-.94-2.06-.94-.94-2.06-.94 2.06-2.06.94z\"/><path d=\"M17.41 7.96l-1.37-1.37c-.4-.4-.92-.59-1.43-.59-.52 0-1.04.2-1.43.59L10.3 9.45l-7.72 7.72c-.78.78-.78 2.05 0 2.83L4 21.41c.39.39.9.59 1.41.59.51 0 1.02-.2 1.41-.59l7.78-7.78 2.81-2.81c.8-.78.8-2.07 0-2.86zM5.41 20L4 18.59l7.72-7.72 1.47 1.35L5.41 20z\"/>\n",
              "  </svg>\n",
              "      </button>\n",
              "      \n",
              "  <style>\n",
              "    .colab-df-container {\n",
              "      display:flex;\n",
              "      flex-wrap:wrap;\n",
              "      gap: 12px;\n",
              "    }\n",
              "\n",
              "    .colab-df-convert {\n",
              "      background-color: #E8F0FE;\n",
              "      border: none;\n",
              "      border-radius: 50%;\n",
              "      cursor: pointer;\n",
              "      display: none;\n",
              "      fill: #1967D2;\n",
              "      height: 32px;\n",
              "      padding: 0 0 0 0;\n",
              "      width: 32px;\n",
              "    }\n",
              "\n",
              "    .colab-df-convert:hover {\n",
              "      background-color: #E2EBFA;\n",
              "      box-shadow: 0px 1px 2px rgba(60, 64, 67, 0.3), 0px 1px 3px 1px rgba(60, 64, 67, 0.15);\n",
              "      fill: #174EA6;\n",
              "    }\n",
              "\n",
              "    [theme=dark] .colab-df-convert {\n",
              "      background-color: #3B4455;\n",
              "      fill: #D2E3FC;\n",
              "    }\n",
              "\n",
              "    [theme=dark] .colab-df-convert:hover {\n",
              "      background-color: #434B5C;\n",
              "      box-shadow: 0px 1px 3px 1px rgba(0, 0, 0, 0.15);\n",
              "      filter: drop-shadow(0px 1px 2px rgba(0, 0, 0, 0.3));\n",
              "      fill: #FFFFFF;\n",
              "    }\n",
              "  </style>\n",
              "\n",
              "      <script>\n",
              "        const buttonEl =\n",
              "          document.querySelector('#df-691a0aa8-fc4c-41c2-bc59-b7f82163d9f5 button.colab-df-convert');\n",
              "        buttonEl.style.display =\n",
              "          google.colab.kernel.accessAllowed ? 'block' : 'none';\n",
              "\n",
              "        async function convertToInteractive(key) {\n",
              "          const element = document.querySelector('#df-691a0aa8-fc4c-41c2-bc59-b7f82163d9f5');\n",
              "          const dataTable =\n",
              "            await google.colab.kernel.invokeFunction('convertToInteractive',\n",
              "                                                     [key], {});\n",
              "          if (!dataTable) return;\n",
              "\n",
              "          const docLinkHtml = 'Like what you see? Visit the ' +\n",
              "            '<a target=\"_blank\" href=https://colab.research.google.com/notebooks/data_table.ipynb>data table notebook</a>'\n",
              "            + ' to learn more about interactive tables.';\n",
              "          element.innerHTML = '';\n",
              "          dataTable['output_type'] = 'display_data';\n",
              "          await google.colab.output.renderOutput(dataTable, element);\n",
              "          const docLink = document.createElement('div');\n",
              "          docLink.innerHTML = docLinkHtml;\n",
              "          element.appendChild(docLink);\n",
              "        }\n",
              "      </script>\n",
              "    </div>\n",
              "  </div>\n",
              "  "
            ]
          },
          "metadata": {},
          "execution_count": 41
        }
      ]
    },
    {
      "cell_type": "code",
      "source": [
        "features_final = [\n",
        "                  'Marital_Status_Married',\n",
        "                  'Dependent_count',\n",
        "                  'Income_Category_$60K - $80K',\n",
        "                  'ln_Total_Revolving_Bal',\n",
        "                  'ln_Credit_Limit',\n",
        "                  'ln_Total_Trans_Amt',\n",
        "                  'Total_Relationship_Count',\n",
        "                  'Total_Amt_Chng_Q4_Q1',\n",
        "                  'Total_Ct_Chng_Q4_Q1',\n",
        "                  'Months_Inactive_12_mon',\n",
        "                  'Contacts_Count_12_mon',\n",
        "                  'Avg_Utilization_Ratio'\n",
        "]\n",
        "X_train = X_train[features_final]\n",
        "X_test = X_test[features_final]"
      ],
      "metadata": {
        "id": "omJyv8I9GLZH"
      },
      "execution_count": 42,
      "outputs": []
    },
    {
      "cell_type": "code",
      "source": [
        "clf_xgb = XGBClassifier(random_state=0)\n",
        "clf_xgb.fit(X_train, y_train)\n",
        "y_pred = clf_xgb.predict_proba(X_test)[:,1]"
      ],
      "metadata": {
        "id": "VfarYdqtRKMO"
      },
      "execution_count": 43,
      "outputs": []
    },
    {
      "cell_type": "code",
      "source": [
        "print(roc_auc_score(y_test,y_pred))\n",
        "print(classification_report(y_test, y_pred>0.5))"
      ],
      "metadata": {
        "colab": {
          "base_uri": "https://localhost:8080/"
        },
        "outputId": "84e66081-577c-43c8-feb6-2e6016cc8b1e",
        "id": "FTJqDzFOGipZ"
      },
      "execution_count": 44,
      "outputs": [
        {
          "output_type": "stream",
          "name": "stdout",
          "text": [
            "0.977424208879841\n",
            "              precision    recall  f1-score   support\n",
            "\n",
            "           0       0.95      0.98      0.97      1699\n",
            "           1       0.90      0.74      0.81       327\n",
            "\n",
            "    accuracy                           0.95      2026\n",
            "   macro avg       0.93      0.86      0.89      2026\n",
            "weighted avg       0.94      0.95      0.94      2026\n",
            "\n"
          ]
        }
      ]
    },
    {
      "cell_type": "markdown",
      "source": [
        "To solve imbalanced dataset issue, we can adjust the model by putting more weight to the positive cases to improve recall for positive cases"
      ],
      "metadata": {
        "id": "fUUSwCEVRPhH"
      }
    },
    {
      "cell_type": "code",
      "source": [
        "weight = round(y_train.shape[0]/y_train.sum()-1,2)\n",
        "weight"
      ],
      "metadata": {
        "colab": {
          "base_uri": "https://localhost:8080/"
        },
        "id": "ZiOvCf1PQUTE",
        "outputId": "1b2753f2-c75c-4fc3-ee57-ffd11b6c5f5f"
      },
      "execution_count": 45,
      "outputs": [
        {
          "output_type": "execute_result",
          "data": {
            "text/plain": [
              "5.23"
            ]
          },
          "metadata": {},
          "execution_count": 45
        }
      ]
    },
    {
      "cell_type": "code",
      "source": [
        "clf_xgb = XGBClassifier(random_state=0,scale_pos_weight=weight)\n",
        "clf_xgb.fit(X_train, y_train)\n",
        "y_pred = clf_xgb.predict_proba(X_test)[:,1]"
      ],
      "metadata": {
        "id": "2KdzzijZGipY"
      },
      "execution_count": 46,
      "outputs": []
    },
    {
      "cell_type": "code",
      "source": [
        "print(roc_auc_score(y_test,y_pred))\n",
        "print(classification_report(y_test, y_pred>0.5))"
      ],
      "metadata": {
        "colab": {
          "base_uri": "https://localhost:8080/"
        },
        "id": "tDgJU64rQ5x7",
        "outputId": "ee92371b-3622-42be-fb02-c614c86675f5"
      },
      "execution_count": 47,
      "outputs": [
        {
          "output_type": "stream",
          "name": "stdout",
          "text": [
            "0.97765640158899\n",
            "              precision    recall  f1-score   support\n",
            "\n",
            "           0       0.99      0.93      0.96      1699\n",
            "           1       0.72      0.93      0.81       327\n",
            "\n",
            "    accuracy                           0.93      2026\n",
            "   macro avg       0.85      0.93      0.88      2026\n",
            "weighted avg       0.94      0.93      0.93      2026\n",
            "\n"
          ]
        }
      ]
    },
    {
      "cell_type": "markdown",
      "source": [
        "# Recommendations based on SHAP analysis"
      ],
      "metadata": {
        "id": "q0J7kRQ-S8iD"
      }
    },
    {
      "cell_type": "code",
      "source": [
        "!pip install shap\n",
        "import shap"
      ],
      "metadata": {
        "id": "f3Fb7nou93gH"
      },
      "execution_count": null,
      "outputs": []
    },
    {
      "cell_type": "code",
      "source": [
        "xgb_explainer = shap.TreeExplainer(clf_xgb,X_train)\n",
        "shap_values = xgb_explainer.shap_values(X_train)"
      ],
      "metadata": {
        "id": "j3ow-v61JMJi",
        "colab": {
          "base_uri": "https://localhost:8080/"
        },
        "outputId": "b8cc3429-d89d-470c-d1db-0c86526d0282"
      },
      "execution_count": 49,
      "outputs": [
        {
          "output_type": "stream",
          "name": "stderr",
          "text": [
            " 99%|===================| 8003/8101 [00:16<00:00]       "
          ]
        }
      ]
    },
    {
      "cell_type": "code",
      "source": [
        "shap.summary_plot(shap_values, features=X_train, feature_names=X_train.columns, plot_type='bar')"
      ],
      "metadata": {
        "colab": {
          "base_uri": "https://localhost:8080/",
          "height": 407
        },
        "id": "Jb2CSQJHfQzw",
        "outputId": "dfa4c9c3-f94c-4b21-dc81-f759f76bc184"
      },
      "execution_count": 50,
      "outputs": [
        {
          "output_type": "display_data",
          "data": {
            "text/plain": [
              "<Figure size 576x453.6 with 1 Axes>"
            ],
            "image/png": "[encoded data removed]"
          },
          "metadata": {
            "needs_background": "light"
          }
        }
      ]
    },
    {
      "cell_type": "code",
      "source": [
        "shap.summary_plot(shap_values, features=X_train, feature_names=X_train.columns)"
      ],
      "metadata": {
        "colab": {
          "base_uri": "https://localhost:8080/",
          "height": 411
        },
        "id": "Q85VOIqaR6L1",
        "outputId": "e2af10d8-f394-4197-eee1-7ddb420ef88b"
      },
      "execution_count": 51,
      "outputs": [
        {
          "output_type": "display_data",
          "data": {
            "text/plain": [
              "<Figure size 576x453.6 with 2 Axes>"
            ],
            "image/png": "[encoded data removed]"
          },
          "metadata": {
            "needs_background": "light"
          }
        }
      ]
    },
    {
      "cell_type": "markdown",
      "source": [
        "Based on the SHAP values of the features, 3 recommendations are provided as follows:\n",
        "\n",
        "1. **Total transaction amount** in the last 12 months is the most important feature we need pay attention to the customers, customers with low transaction amount should be incentivized to use credit card more through promotion messages or emails.\n",
        "\n",
        "2. **Comparison in transaction amount and count with previous quarters** are also important, if the transaction shows a downward trend (less transaction in Q4 comparing to Q1), we should take actions to remind customers.\n",
        "\n",
        "3. **Increasing the number of products** held by the customer can also increase the chance of retention."
      ],
      "metadata": {
        "id": "uv4-aBwlUncK"
      }
    }
  ]
}